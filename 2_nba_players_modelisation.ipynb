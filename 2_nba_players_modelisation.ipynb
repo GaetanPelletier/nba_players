{
  "nbformat": 4,
  "nbformat_minor": 2,
  "metadata": {
    "colab": {
      "name": "nba_players_modelisation.ipynb",
      "provenance": [],
      "collapsed_sections": []
    },
    "kernelspec": {
      "name": "python3",
      "display_name": "Python 3"
    },
    "language_info": {
      "name": "python"
    }
  },
  "cells": [
    {
      "cell_type": "markdown",
      "source": [
        "# Modélisation\r\n",
        "\r\n",
        "Ce NoteBook propose une modélisation pour les données analysées dans le NoteBook précédent (nba_players_analyse.ipynb).\r\n",
        "\r\n",
        "Ce NoteBook est composé des parties suivantes :\r\n",
        "- Accès aux données stockées sur Google Drive,\r\n",
        "- Import des librairies,\r\n",
        "- Configuration du NoteBook,\r\n",
        "- Chargement des données,\r\n",
        "- Séparation du jeu de données,\r\n",
        "- Transformation des variables,\r\n",
        "- Modèle baseline,\r\n",
        "- Comparaison de modèles,\r\n",
        "- Meilleur modèle,\r\n",
        "- Problème avec API Rest."
      ],
      "metadata": {
        "id": "20KiGQx8ip3S"
      }
    },
    {
      "cell_type": "markdown",
      "source": [
        "# Accès aux données stockées sur Google Drive"
      ],
      "metadata": {
        "id": "Pw7Ac2Ygjd6L"
      }
    },
    {
      "cell_type": "code",
      "execution_count": 1,
      "source": [
        "from google.colab import drive\r\n",
        "drive.mount(\"/content/drive\")"
      ],
      "outputs": [
        {
          "output_type": "stream",
          "name": "stdout",
          "text": [
            "Mounted at /content/drive\n"
          ]
        }
      ],
      "metadata": {
        "colab": {
          "base_uri": "https://localhost:8080/"
        },
        "id": "3G4Av4AOiCUw",
        "outputId": "8a9c5945-d5dc-4f70-a305-52eef3fd4187"
      }
    },
    {
      "cell_type": "markdown",
      "source": [
        "# Import des librairies"
      ],
      "metadata": {
        "id": "HnutEXffmcwQ"
      }
    },
    {
      "cell_type": "code",
      "execution_count": 3,
      "source": [
        "# skopt: model optimization lib\r\n",
        "!pip install -q scikit-optimize"
      ],
      "outputs": [
        {
          "output_type": "stream",
          "name": "stdout",
          "text": [
            "\u001b[?25l\r\u001b[K     |███▎                            | 10 kB 20.4 MB/s eta 0:00:01\r\u001b[K     |██████▌                         | 20 kB 26.8 MB/s eta 0:00:01\r\u001b[K     |█████████▊                      | 30 kB 31.9 MB/s eta 0:00:01\r\u001b[K     |█████████████                   | 40 kB 33.4 MB/s eta 0:00:01\r\u001b[K     |████████████████▏               | 51 kB 35.2 MB/s eta 0:00:01\r\u001b[K     |███████████████████▍            | 61 kB 37.8 MB/s eta 0:00:01\r\u001b[K     |██████████████████████▊         | 71 kB 26.5 MB/s eta 0:00:01\r\u001b[K     |██████████████████████████      | 81 kB 27.8 MB/s eta 0:00:01\r\u001b[K     |█████████████████████████████▏  | 92 kB 27.1 MB/s eta 0:00:01\r\u001b[K     |████████████████████████████████| 101 kB 8.2 MB/s \n",
            "\u001b[?25h"
          ]
        }
      ],
      "metadata": {
        "colab": {
          "base_uri": "https://localhost:8080/"
        },
        "id": "G5ABbKUz5KfI",
        "outputId": "dd067e9e-a228-4052-d1a3-97be283fb5e2"
      }
    },
    {
      "cell_type": "code",
      "execution_count": 4,
      "source": [
        "import time\r\n",
        "\r\n",
        "import pandas as pd\r\n",
        "import numpy as np\r\n",
        "import matplotlib.pyplot as plt\r\n",
        "import seaborn as sns\r\n",
        "\r\n",
        "from sklearn.model_selection import train_test_split, cross_validate\r\n",
        "from sklearn.preprocessing import StandardScaler\r\n",
        "from sklearn.pipeline import Pipeline\r\n",
        "from sklearn.metrics import (\r\n",
        "    f1_score,\r\n",
        "    precision_score,\r\n",
        "    recall_score,\r\n",
        "    confusion_matrix\r\n",
        ")\r\n",
        "from sklearn.dummy import DummyClassifier\r\n",
        "from sklearn.linear_model import LogisticRegression\r\n",
        "from sklearn.svm import SVC\r\n",
        "\r\n",
        "from skopt import BayesSearchCV\r\n",
        "from skopt.space import Real, Integer\r\n",
        "\r\n",
        "import dill as pickle"
      ],
      "outputs": [],
      "metadata": {
        "id": "weITbeTkmfAw"
      }
    },
    {
      "cell_type": "markdown",
      "source": [
        "# Configuration du NoteBook"
      ],
      "metadata": {
        "id": "4G-qYvdIreym"
      }
    },
    {
      "cell_type": "code",
      "execution_count": 5,
      "source": [
        "CONFIG = dict (\r\n",
        "    seed = 0,\r\n",
        "    nbr_folds = 5,\r\n",
        "    n_iter = 66\r\n",
        ")"
      ],
      "outputs": [],
      "metadata": {
        "id": "YTXpCVvTrhsz"
      }
    },
    {
      "cell_type": "markdown",
      "source": [
        "# Chargement des données"
      ],
      "metadata": {
        "id": "B8orlP1WmfKm"
      }
    },
    {
      "cell_type": "code",
      "execution_count": 6,
      "source": [
        "# Chargement des données\n",
        "df = pd.read_csv(\"/content/drive/MyDrive/Gaetan_Travail/ML/df_a_utiliser.csv\")\n",
        "\n",
        "# Vérifions que les données se soient bien chargées\n",
        "print(f\"df shape: {df.shape}\\n\")\n",
        "df.head()"
      ],
      "outputs": [
        {
          "output_type": "stream",
          "name": "stdout",
          "text": [
            "df shape: (1273, 12)\n",
            "\n"
          ]
        },
        {
          "output_type": "execute_result",
          "data": {
            "text/html": [
              "<div>\n",
              "<style scoped>\n",
              "    .dataframe tbody tr th:only-of-type {\n",
              "        vertical-align: middle;\n",
              "    }\n",
              "\n",
              "    .dataframe tbody tr th {\n",
              "        vertical-align: top;\n",
              "    }\n",
              "\n",
              "    .dataframe thead th {\n",
              "        text-align: right;\n",
              "    }\n",
              "</style>\n",
              "<table border=\"1\" class=\"dataframe\">\n",
              "  <thead>\n",
              "    <tr style=\"text-align: right;\">\n",
              "      <th></th>\n",
              "      <th>GP</th>\n",
              "      <th>PTS</th>\n",
              "      <th>FG%</th>\n",
              "      <th>3P%</th>\n",
              "      <th>FT%</th>\n",
              "      <th>OREB</th>\n",
              "      <th>DREB</th>\n",
              "      <th>AST</th>\n",
              "      <th>STL</th>\n",
              "      <th>BLK</th>\n",
              "      <th>TOV</th>\n",
              "      <th>TARGET_5Yrs</th>\n",
              "    </tr>\n",
              "  </thead>\n",
              "  <tbody>\n",
              "    <tr>\n",
              "      <th>0</th>\n",
              "      <td>36</td>\n",
              "      <td>2.128232</td>\n",
              "      <td>34.7</td>\n",
              "      <td>25.0</td>\n",
              "      <td>69.9</td>\n",
              "      <td>0.530628</td>\n",
              "      <td>1.481605</td>\n",
              "      <td>1.064711</td>\n",
              "      <td>0.336472</td>\n",
              "      <td>0.336472</td>\n",
              "      <td>0.832909</td>\n",
              "      <td>0.0</td>\n",
              "    </tr>\n",
              "    <tr>\n",
              "      <th>1</th>\n",
              "      <td>35</td>\n",
              "      <td>2.104134</td>\n",
              "      <td>29.6</td>\n",
              "      <td>23.5</td>\n",
              "      <td>76.5</td>\n",
              "      <td>0.405465</td>\n",
              "      <td>1.098612</td>\n",
              "      <td>1.547563</td>\n",
              "      <td>0.741937</td>\n",
              "      <td>0.405465</td>\n",
              "      <td>0.955511</td>\n",
              "      <td>0.0</td>\n",
              "    </tr>\n",
              "    <tr>\n",
              "      <th>2</th>\n",
              "      <td>74</td>\n",
              "      <td>1.824549</td>\n",
              "      <td>42.2</td>\n",
              "      <td>24.4</td>\n",
              "      <td>67.0</td>\n",
              "      <td>0.405465</td>\n",
              "      <td>0.993252</td>\n",
              "      <td>0.693147</td>\n",
              "      <td>0.405465</td>\n",
              "      <td>0.262364</td>\n",
              "      <td>0.693147</td>\n",
              "      <td>0.0</td>\n",
              "    </tr>\n",
              "    <tr>\n",
              "      <th>3</th>\n",
              "      <td>58</td>\n",
              "      <td>1.902108</td>\n",
              "      <td>42.6</td>\n",
              "      <td>22.6</td>\n",
              "      <td>68.9</td>\n",
              "      <td>0.693147</td>\n",
              "      <td>0.641854</td>\n",
              "      <td>0.587787</td>\n",
              "      <td>0.470004</td>\n",
              "      <td>0.095310</td>\n",
              "      <td>0.693147</td>\n",
              "      <td>1.0</td>\n",
              "    </tr>\n",
              "    <tr>\n",
              "      <th>4</th>\n",
              "      <td>48</td>\n",
              "      <td>1.704748</td>\n",
              "      <td>52.4</td>\n",
              "      <td>0.0</td>\n",
              "      <td>67.4</td>\n",
              "      <td>0.693147</td>\n",
              "      <td>0.916291</td>\n",
              "      <td>0.262364</td>\n",
              "      <td>0.262364</td>\n",
              "      <td>0.336472</td>\n",
              "      <td>0.587787</td>\n",
              "      <td>1.0</td>\n",
              "    </tr>\n",
              "  </tbody>\n",
              "</table>\n",
              "</div>"
            ],
            "text/plain": [
              "   GP       PTS   FG%   3P%  ...       STL       BLK       TOV  TARGET_5Yrs\n",
              "0  36  2.128232  34.7  25.0  ...  0.336472  0.336472  0.832909          0.0\n",
              "1  35  2.104134  29.6  23.5  ...  0.741937  0.405465  0.955511          0.0\n",
              "2  74  1.824549  42.2  24.4  ...  0.405465  0.262364  0.693147          0.0\n",
              "3  58  1.902108  42.6  22.6  ...  0.470004  0.095310  0.693147          1.0\n",
              "4  48  1.704748  52.4   0.0  ...  0.262364  0.336472  0.587787          1.0\n",
              "\n",
              "[5 rows x 12 columns]"
            ]
          },
          "metadata": {},
          "execution_count": 6
        }
      ],
      "metadata": {
        "colab": {
          "base_uri": "https://localhost:8080/",
          "height": 238
        },
        "id": "3dku8Ocajj3V",
        "outputId": "6b27467b-2617-41ac-f570-516470d05036"
      }
    },
    {
      "cell_type": "markdown",
      "source": [
        "# Séparation du jeu de données\n",
        "\n",
        "Puisqu'il y a un déséquilibre des classes, nous allons utilier la fonction \"train_test_split\" en indiquant une stratification, afin de créer un jeu d'entraînement et un jeu de test.\n",
        "\n",
        "Puis, avec le jeu d'entraînement, nous allons utiliser la fonction StratifiedKFold afin de créer 5 plis (choix arbitraire) qui seront utilisés afin de mettre en place une validation croisée (amélioration de la généralisation d'un modèle)."
      ],
      "metadata": {
        "id": "s2LPI-U-neHn"
      }
    },
    {
      "cell_type": "code",
      "execution_count": 7,
      "source": [
        "# Creation des jeux d'entraînement et de test\n",
        "\n",
        "# conversion de la cible en int\n",
        "df.TARGET_5Yrs = [int(x) for x in df.TARGET_5Yrs]\n",
        "\n",
        "# séparation du jeu de données\n",
        "train_df, test_df = train_test_split(\n",
        "    df,\n",
        "    test_size=0.2,\n",
        "    random_state=CONFIG[\"seed\"],\n",
        "    stratify=df.TARGET_5Yrs\n",
        ")\n",
        "\n",
        "train_df.reset_index(drop=True, inplace=True)\n",
        "test_df.reset_index(drop=True, inplace=True)\n",
        "\n",
        "print(f\"train set shape: {train_df.shape}\")\n",
        "print(f\"test set shape:  {test_df.shape}\")"
      ],
      "outputs": [
        {
          "output_type": "stream",
          "name": "stdout",
          "text": [
            "train set shape: (1018, 12)\n",
            "test set shape:  (255, 12)\n"
          ]
        }
      ],
      "metadata": {
        "colab": {
          "base_uri": "https://localhost:8080/"
        },
        "id": "CEoAvpivjj5j",
        "outputId": "371116f9-0303-47e8-e8bd-afaad80c00d4"
      }
    },
    {
      "cell_type": "markdown",
      "source": [
        "# Transformation des variables\n",
        "\n",
        "Nous allons mettre en place un pipeline afin d'opérer une transformation sur les données n'appartenant qu'au jeu d'entraînement (et ainsi éviter d'utiliser le jeu de validation qui correspondra au pli non utilisé dans le jeu d'entraînement).\n",
        "\n",
        "La transformation utilisée sera \"StandardScaler\"."
      ],
      "metadata": {
        "id": "nWoetmyZsW6_"
      }
    },
    {
      "cell_type": "markdown",
      "source": [
        "# Modèle baseline\n",
        "\n",
        "Notre baseline sera un modèle de type \"Dummy Classifier\"."
      ],
      "metadata": {
        "id": "SgwTaao0wXV9"
      }
    },
    {
      "cell_type": "code",
      "execution_count": null,
      "source": [
        "#On cree un pipeline de traitement integrant la preparation et le modele Lasso:\n",
        "baseline = Pipeline([\n",
        "  (\"stdScaler\", StandardScaler()),\n",
        "  (\"dummyClf\", DummyClassifier(strategy=\"stratified\"))\n",
        "])\n",
        "\n",
        "#----------------------#\n",
        "\n",
        "# Entraînement du modèle\n",
        "cv_results = cross_validate(\n",
        "    baseline,\n",
        "    train_df.drop(columns=[\"TARGET_5Yrs\"]),\n",
        "    train_df.TARGET_5Yrs,\n",
        "    scoring=\"recall\",\n",
        "    cv=CONFIG[\"nbr_folds\"],\n",
        "    return_estimator=True\n",
        ")\n",
        "\n",
        "#----------------------#\n",
        "\n",
        "# prédictions\n",
        "y_true = test_df.TARGET_5Yrs\n",
        "start = time.time()\n",
        "y_pred = cv_results[\"estimator\"][np.argmax(cv_results[\"test_score\"])].predict(\n",
        "    test_df.drop(columns=[\"TARGET_5Yrs\"])\n",
        ")\n",
        "stop = time.time()\n",
        "\n",
        "print(f\"Recall    = {recall_score(y_true, y_pred):.4f}\")\n",
        "print(f\"F1 score  = {f1_score(y_true, y_pred):.4f}\")\n",
        "print(f\"Precision = {precision_score(y_true, y_pred):.4f}\")\n",
        "print(f\"Temps de prédictions = {stop - start}\")"
      ],
      "outputs": [
        {
          "output_type": "stream",
          "name": "stdout",
          "text": [
            "Recall    = 0.5597\n",
            "F1 score  = 0.5761\n",
            "Precision = 0.5933\n",
            "Temps de prédictions = 0.0021622180938720703\n"
          ]
        }
      ],
      "metadata": {
        "colab": {
          "base_uri": "https://localhost:8080/"
        },
        "id": "PVKoIUmeibWg",
        "outputId": "4ba6aa5d-0d90-47d1-8b0e-449732942bc3"
      }
    },
    {
      "cell_type": "markdown",
      "source": [
        "Nous utiliserons comme score baseline :\n",
        "\n",
        "Recall = 0.5597"
      ],
      "metadata": {
        "id": "tim6bUMa3Stp"
      }
    },
    {
      "cell_type": "markdown",
      "source": [
        "# Comparaison de modèles\n",
        "\n",
        "Pour optimiser les modèles, je vais utiliser la librairie scikit-optimize. Cette dernière permet d'effectuer des recherches bayésiennes.\n",
        "\n",
        "Pour optimiser le score, j'utilise la métrique \"F1-score\".\n",
        "Celle-ci étant une moyenne harmonique de la précision et du rappel, elle permet d'éviter que le modèle ne fasse des \"erreurs volontaires\" (classer tous les individus en 1 ou 0) pour maximiser la précision ou le rappel.\n",
        "\n",
        "Une fois, l'entraînement fait en tentant d'optimiser le F1-score, nous allons comparer les scores des différents modèles (F1-score et Recall), ainsi que le temps mis pour prédire le jeu de test."
      ],
      "metadata": {
        "id": "QM3mo75n3iyQ"
      }
    },
    {
      "cell_type": "code",
      "execution_count": 8,
      "source": [
        "# Imbalance du jeu de données\n",
        "\n",
        "def class_weights_function(df_target):\n",
        "  # Estimate class weights based on the imbalance of the data set\n",
        "\n",
        "  neg = df_target.value_counts()[0]\n",
        "  pos = df_target.value_counts()[1]\n",
        "\n",
        "  # weigts to correct imbalance:\n",
        "  total = neg + pos\n",
        "\n",
        "  # Scaling by total/2 helps keep the loss to a similar magnitude.\n",
        "  # The sum of the weights of all examples stays the same.\n",
        "  weight_for_0 = (1 / neg) * (total / 2.0)\n",
        "  weight_for_1 = (1 / pos) * (total / 2.0)\n",
        "\n",
        "  class_weights = {0: weight_for_0, 1: weight_for_1}\n",
        "\n",
        "  return class_weights"
      ],
      "outputs": [],
      "metadata": {
        "id": "G5UVksiTdlOA"
      }
    },
    {
      "cell_type": "code",
      "execution_count": 9,
      "source": [
        "# Maximisation du F1-score\n",
        "def max_scores(target, y_pred, min_range=30, max_range=70, average_=\"binary\"):\n",
        "\n",
        "    result_threshold = []\n",
        "    result_f1 = []\n",
        "    result_jaccard = []\n",
        "    result_prec = []\n",
        "    result_recall = []\n",
        "\n",
        "    for i in range(min_range, max_range, 1):\n",
        "      threshold = i/100\n",
        "\n",
        "      y_pred_threshold = [1 if x >= threshold else 0 for x in y_pred]\n",
        "                                                           \n",
        "      result_threshold.append(threshold)\n",
        "      result_f1.append(f1_score(target, y_pred_threshold))        \n",
        "      result_prec.append(precision_score(\n",
        "          target,\n",
        "          y_pred_threshold,\n",
        "          average=average_)\n",
        "      )\n",
        "      result_recall.append(recall_score(\n",
        "          target,\n",
        "          y_pred_threshold,\n",
        "          average=average_)\n",
        "      )\n",
        "\n",
        "    # we want to maximize the F1 score:\n",
        "    index = result_f1.index(max(result_f1))\n",
        "    \n",
        "    print(f\"Threshold = {result_threshold[index]}\")\n",
        "    print(\"\\nScores:\\n\")\n",
        "    print(f\"F1 score         = {result_f1[index]:.4f}\")\n",
        "    print(f\"Precision score  = {result_prec[index]:.4f}\")\n",
        "    print(f\"Recall score     = {result_recall[index]:.4f}\")\n",
        "  \n",
        "    return result_threshold[index]"
      ],
      "outputs": [],
      "metadata": {
        "id": "0i2DSjICnw5z"
      }
    },
    {
      "cell_type": "code",
      "execution_count": 10,
      "source": [
        "from sklearn.metrics import fbeta_score\n",
        "\n",
        "# Maximisation du Fbeta-score\n",
        "def max_scores_fb(target, y_pred, min_range=30, max_range=70, beta_=0.5):\n",
        "\n",
        "    result_threshold = []\n",
        "    result_fb = []\n",
        "\n",
        "    for i in range(min_range, max_range, 1):\n",
        "      threshold = i/100\n",
        "\n",
        "      y_pred_threshold = [1 if x >= threshold else 0 for x in y_pred]\n",
        "                                                           \n",
        "      result_threshold.append(threshold)\n",
        "      result_fb.append(fbeta_score(target, y_pred_threshold, beta=beta_))\n",
        "\n",
        "    # we want to maximize the F1 score:\n",
        "    index = result_fb.index(max(result_fb))\n",
        "    \n",
        "    print(f\"Threshold = {result_threshold[index]}\")\n",
        "    print(\"\\nScores:\\n\")\n",
        "    print(f\"fbeta_score = {result_fb[index]:.4f}\")\n",
        "  \n",
        "    return result_threshold[index]"
      ],
      "outputs": [],
      "metadata": {
        "id": "Ux5r-Q_l9n9Y"
      }
    },
    {
      "cell_type": "markdown",
      "source": [
        "**Régression logistique**"
      ],
      "metadata": {
        "id": "mU-sv96lTJAK"
      }
    },
    {
      "cell_type": "code",
      "execution_count": 11,
      "source": [
        "# On cree un pipeline de traitement integrant la preparation et le modele logReg:\n",
        "modele_log_reg = Pipeline([\n",
        "  (\"stdScaler\", StandardScaler()),\n",
        "  (\"logReg\", LogisticRegression(\n",
        "      penalty = \"elasticnet\",\n",
        "      solver = \"saga\",\n",
        "      class_weight = class_weights_function(train_df.TARGET_5Yrs),\n",
        "      random_state = CONFIG[\"seed\"]\n",
        "  ))\n",
        "])\n",
        "\n",
        "# On definit les hyperparametres a faire varier:\n",
        "param_grid = {\n",
        "    \"logReg__C\": Real(1e-5, 1e+5, prior=\"log-uniform\"),\n",
        "    \"logReg__l1_ratio\": Real(0, 1)\n",
        "}\n",
        "\n",
        "# On cree le modele utilisant une recherche bayesienne\n",
        "opt_logReg = BayesSearchCV(\n",
        "    modele_log_reg,\n",
        "    param_grid,\n",
        "    scoring=\"f1\",\n",
        "    cv=CONFIG[\"nbr_folds\"],\n",
        "    n_jobs=-1,\n",
        "    n_iter=CONFIG[\"n_iter\"]\n",
        ")\n",
        "\n",
        "# On entraine le modele\n",
        "opt_logReg.fit(\n",
        "  train_df.drop(columns=[\"TARGET_5Yrs\"]),\n",
        "  train_df.TARGET_5Yrs\n",
        ")"
      ],
      "outputs": [
        {
          "output_type": "stream",
          "name": "stderr",
          "text": [
            "/usr/local/lib/python3.7/dist-packages/skopt/optimizer/optimizer.py:449: UserWarning: The objective has been evaluated at this point before.\n",
            "  warnings.warn(\"The objective has been evaluated \"\n",
            "/usr/local/lib/python3.7/dist-packages/skopt/optimizer/optimizer.py:449: UserWarning: The objective has been evaluated at this point before.\n",
            "  warnings.warn(\"The objective has been evaluated \"\n",
            "/usr/local/lib/python3.7/dist-packages/skopt/optimizer/optimizer.py:449: UserWarning: The objective has been evaluated at this point before.\n",
            "  warnings.warn(\"The objective has been evaluated \"\n",
            "/usr/local/lib/python3.7/dist-packages/skopt/optimizer/optimizer.py:449: UserWarning: The objective has been evaluated at this point before.\n",
            "  warnings.warn(\"The objective has been evaluated \"\n",
            "/usr/local/lib/python3.7/dist-packages/skopt/optimizer/optimizer.py:449: UserWarning: The objective has been evaluated at this point before.\n",
            "  warnings.warn(\"The objective has been evaluated \"\n"
          ]
        },
        {
          "output_type": "execute_result",
          "data": {
            "text/plain": [
              "BayesSearchCV(cv=5, error_score='raise',\n",
              "              estimator=Pipeline(memory=None,\n",
              "                                 steps=[('stdScaler',\n",
              "                                         StandardScaler(copy=True,\n",
              "                                                        with_mean=True,\n",
              "                                                        with_std=True)),\n",
              "                                        ('logReg',\n",
              "                                         LogisticRegression(C=1.0,\n",
              "                                                            class_weight={0: 1.3220779220779222,\n",
              "                                                                          1: 0.8041074249605055},\n",
              "                                                            dual=False,\n",
              "                                                            fit_intercept=True,\n",
              "                                                            intercept_scaling=1,\n",
              "                                                            l1_ratio=None,\n",
              "                                                            max_iter=100,\n",
              "                                                            multi_class='auto',\n",
              "                                                            n_jobs=None,\n",
              "                                                            pena...\n",
              "              fit_params=None, iid=True, n_iter=66, n_jobs=-1, n_points=1,\n",
              "              optimizer_kwargs=None, pre_dispatch='2*n_jobs', random_state=None,\n",
              "              refit=True, return_train_score=False, scoring='f1',\n",
              "              search_spaces={'logReg__C': Real(low=1e-05, high=100000.0, prior='log-uniform', transform='identity'),\n",
              "                             'logReg__l1_ratio': Real(low=0, high=1, prior='uniform', transform='identity')},\n",
              "              verbose=0)"
            ]
          },
          "metadata": {},
          "execution_count": 11
        }
      ],
      "metadata": {
        "colab": {
          "base_uri": "https://localhost:8080/"
        },
        "id": "w4IShVevKCOM",
        "outputId": "bacd2039-ef6e-4432-807d-0118f2aa1a2c"
      }
    },
    {
      "cell_type": "code",
      "execution_count": 12,
      "source": [
        "# Optimisation du seuil de décision\n",
        "\n",
        "# y_true et prédictions\n",
        "y_true = train_df.TARGET_5Yrs\n",
        "y_pred = opt_logReg.predict_proba(train_df.drop(columns=[\"TARGET_5Yrs\"]))\n",
        "\n",
        "threshold = max_scores(\n",
        "    y_true,\n",
        "    [x[1] for x in y_pred],\n",
        "    min_range=10,\n",
        "    max_range=90\n",
        ")"
      ],
      "outputs": [
        {
          "output_type": "stream",
          "name": "stdout",
          "text": [
            "Threshold = 0.33\n",
            "\n",
            "Scores:\n",
            "\n",
            "F1 score         = 0.7873\n",
            "Precision score  = 0.6976\n",
            "Recall score     = 0.9036\n"
          ]
        }
      ],
      "metadata": {
        "colab": {
          "base_uri": "https://localhost:8080/"
        },
        "id": "0zDC6S0oizKP",
        "outputId": "395d090e-1703-44cf-9050-1879b951c7b2"
      }
    },
    {
      "cell_type": "code",
      "execution_count": 13,
      "source": [
        "# Optimisation du seuil de décision\n",
        "\n",
        "# y_true et prédictions\n",
        "y_true = train_df.TARGET_5Yrs\n",
        "y_pred = opt_logReg.predict_proba(train_df.drop(columns=[\"TARGET_5Yrs\"]))\n",
        "\n",
        "threshold = max_scores_fb(\n",
        "    y_true,\n",
        "    [x[1] for x in y_pred],\n",
        "    min_range=10,\n",
        "    max_range=90\n",
        ")"
      ],
      "outputs": [
        {
          "output_type": "stream",
          "name": "stdout",
          "text": [
            "Threshold = 0.51\n",
            "\n",
            "Scores:\n",
            "\n",
            "fbeta_score = 0.7920\n"
          ]
        }
      ],
      "metadata": {
        "colab": {
          "base_uri": "https://localhost:8080/"
        },
        "id": "qx-LQgiaeX3i",
        "outputId": "192dee9e-f9a7-41e3-d0c8-05e3e0c4c890"
      }
    },
    {
      "cell_type": "code",
      "execution_count": 14,
      "source": [
        "# prédictions jeu de test\n",
        "y_true = test_df.TARGET_5Yrs\n",
        "start = time.time()\n",
        "y_pred = opt_logReg.predict_proba(test_df.drop(columns=[\"TARGET_5Yrs\"]))\n",
        "stop = time.time()\n",
        "\n",
        "threshold = 0.51\n",
        "y_pred = [x[1] for x in y_pred]\n",
        "y_pred_threshold = [1 if x >= threshold else 0 for x in y_pred]\n",
        "\n",
        "print(f\"Recall    = {recall_score(y_true, y_pred_threshold):.4f}\")\n",
        "print(f\"F1 score  = {f1_score(y_true, y_pred_threshold):.4f}\")\n",
        "print(f\"Precision = {precision_score(y_true, y_pred_threshold):.4f}\")\n",
        "print(f\"Temps de prédictions = {stop - start}\")"
      ],
      "outputs": [
        {
          "output_type": "stream",
          "name": "stdout",
          "text": [
            "Recall    = 0.5975\n",
            "F1 score  = 0.6597\n",
            "Precision = 0.7364\n",
            "Temps de prédictions = 0.002293825149536133\n"
          ]
        }
      ],
      "metadata": {
        "colab": {
          "base_uri": "https://localhost:8080/"
        },
        "id": "2AF_SobLgsOH",
        "outputId": "e48b1dc6-0922-47b2-d53f-0998184cee5a"
      }
    },
    {
      "cell_type": "markdown",
      "source": [
        "**SVM**"
      ],
      "metadata": {
        "id": "47nG9NjLTL5-"
      }
    },
    {
      "cell_type": "code",
      "execution_count": null,
      "source": [
        "# On cree un pipeline de traitement integrant la preparation et le modele Lasso:\n",
        "modele_svc = Pipeline([\n",
        "  (\"stdScaler\", StandardScaler()),\n",
        "  (\"svc\", SVC(\n",
        "      class_weight = class_weights_function(train_df.TARGET_5Yrs),\n",
        "      random_state = CONFIG[\"seed\"]\n",
        "  ))\n",
        "])\n",
        "\n",
        "# On definit les hyperparametres a faire varier:\n",
        "param_grid = {\n",
        "    \"svc__C\": Real(1e-5, 1e+5, prior=\"log-uniform\")\n",
        "}\n",
        "\n",
        "# On cree le modele utilisant une recherche bayesienne\n",
        "opt_svc = BayesSearchCV(\n",
        "    modele_svc,\n",
        "    param_grid,\n",
        "    scoring=\"f1\",\n",
        "    cv=CONFIG[\"nbr_folds\"],\n",
        "    n_jobs=-1,\n",
        "    n_iter=CONFIG[\"n_iter\"]\n",
        ")\n",
        "\n",
        "# On entraine le modele\n",
        "opt_svc.fit(\n",
        "  train_df.drop(columns=[\"TARGET_5Yrs\"]),\n",
        "  train_df.TARGET_5Yrs\n",
        ")"
      ],
      "outputs": [
        {
          "output_type": "execute_result",
          "data": {
            "text/plain": [
              "BayesSearchCV(cv=5, error_score='raise',\n",
              "              estimator=Pipeline(memory=None,\n",
              "                                 steps=[('stdScaler',\n",
              "                                         StandardScaler(copy=True,\n",
              "                                                        with_mean=True,\n",
              "                                                        with_std=True)),\n",
              "                                        ('svc',\n",
              "                                         SVC(C=1.0, break_ties=False,\n",
              "                                             cache_size=200,\n",
              "                                             class_weight={0: 1.3220779220779222,\n",
              "                                                           1: 0.8041074249605055},\n",
              "                                             coef0=0.0,\n",
              "                                             decision_function_shape='ovr',\n",
              "                                             degree=3, gamma='scale',\n",
              "                                             kernel='rbf', max_iter=-1,\n",
              "                                             probabilit...se, random_state=0,\n",
              "                                             shrinking=True, tol=0.001,\n",
              "                                             verbose=False))],\n",
              "                                 verbose=False),\n",
              "              fit_params=None, iid=True, n_iter=66, n_jobs=-1, n_points=1,\n",
              "              optimizer_kwargs=None, pre_dispatch='2*n_jobs', random_state=None,\n",
              "              refit=True, return_train_score=False, scoring='f1',\n",
              "              search_spaces={'svc__C': Real(low=1e-05, high=100000.0, prior='log-uniform', transform='identity')},\n",
              "              verbose=0)"
            ]
          },
          "metadata": {},
          "execution_count": 20
        }
      ],
      "metadata": {
        "colab": {
          "base_uri": "https://localhost:8080/"
        },
        "id": "aOcj-O-83k26",
        "outputId": "092c1419-ddc9-4487-ed80-515a0dd44177"
      }
    },
    {
      "cell_type": "code",
      "execution_count": null,
      "source": [
        "# Optimisation du seuil de décision\n",
        "\n",
        "# y_true et prédictions\n",
        "y_true = train_df.TARGET_5Yrs\n",
        "y_pred = opt_svc.decision_function(train_df.drop(columns=[\"TARGET_5Yrs\"]))\n",
        "\n",
        "threshold = max_scores(\n",
        "    y_true,\n",
        "    y_pred,\n",
        "    min_range=10,\n",
        "    max_range=90\n",
        ")"
      ],
      "outputs": [
        {
          "output_type": "stream",
          "name": "stdout",
          "text": [
            "Threshold = 0.1\n",
            "\n",
            "Scores:\n",
            "\n",
            "F1 score         = 0.7309\n",
            "Precision score  = 0.8112\n",
            "Recall score     = 0.6651\n"
          ]
        }
      ],
      "metadata": {
        "colab": {
          "base_uri": "https://localhost:8080/"
        },
        "id": "0zLZNqcPgWYi",
        "outputId": "16d4110a-50cf-4459-85b2-10460795c164"
      }
    },
    {
      "cell_type": "code",
      "execution_count": null,
      "source": [
        "# prédictions jeu de test\n",
        "y_true = test_df.TARGET_5Yrs\n",
        "start = time.time()\n",
        "y_pred = opt_svc.decision_function(test_df.drop(columns=[\"TARGET_5Yrs\"]))\n",
        "stop = time.time()\n",
        "\n",
        "threshold = 0.1\n",
        "y_pred_threshold = [1 if x >= threshold else 0 for x in y_pred]\n",
        "\n",
        "print(f\"Recall    = {recall_score(y_true, y_pred_threshold):.4f}\")\n",
        "print(f\"F1 score  = {f1_score(y_true, y_pred_threshold):.4f}\")\n",
        "print(f\"Precision = {precision_score(y_true, y_pred_threshold):.4f}\")\n",
        "print(f\"Temps de prédictions = {stop - start}\")"
      ],
      "outputs": [
        {
          "output_type": "stream",
          "name": "stdout",
          "text": [
            "Recall    = 0.5660\n",
            "F1 score  = 0.6406\n",
            "Precision = 0.7377\n",
            "Temps de prédictions = 0.014455080032348633\n"
          ]
        }
      ],
      "metadata": {
        "colab": {
          "base_uri": "https://localhost:8080/"
        },
        "id": "ypYIt3GEhnPd",
        "outputId": "0c1d69f1-5553-451f-c985-fc740b42dc28"
      }
    },
    {
      "cell_type": "markdown",
      "source": [
        "**Random Forest et Gradient Boosting**\n",
        "\n",
        "Il y a un problème lors de l'utilisation de skopt-Bayes_search_cv et un modèle ensembliste.\n",
        "Une solution a été proposée [ici](https://github.com/scikit-optimize/scikit-optimize/issues/978#issue-775632361) par l'utilisateur *AyrtonB*.\n",
        "\n",
        "Cependant, cette modélisation est très couteuse en temps.\n",
        "Je fais alors le choix de ne pas entraîner de modèles ensemblistes et passe directement à une modélisation utilisant de l'autoML."
      ],
      "metadata": {
        "id": "kRxBIl7PT01L"
      }
    },
    {
      "cell_type": "markdown",
      "source": [
        "**AutoML - AutoGluon**\n",
        "\n",
        "Lors de l'installation d'AutGluon, je suspecte qu'il y ait une modification de certaines librairies, renant impossible l'utilisation de scikit-optimize avec les modèles de sklearn entraînés précédemment.\n",
        "\n",
        "De ce fait, pour éviter tout problème, je préfère installer et importer AutoGluon seulement à partir d'ici dans le NoteBook."
      ],
      "metadata": {
        "id": "NpeO8NlbT9Rn"
      }
    },
    {
      "cell_type": "code",
      "execution_count": null,
      "source": [
        "# AutoML (AutoGluon)\n",
        "!pip install -U pip\n",
        "!pip install -U setuptools wheel\n",
        "!pip install -U \"mxnet<2.0.0\"\n",
        "!pip install autogluon.tabular\n",
        "\n",
        "!pip install catboost"
      ],
      "outputs": [],
      "metadata": {
        "id": "KtJKfM3MIUgL"
      }
    },
    {
      "cell_type": "code",
      "execution_count": null,
      "source": [
        "from autogluon.tabular import TabularPredictor"
      ],
      "outputs": [],
      "metadata": {
        "id": "H-ILWVgqjJDk"
      }
    },
    {
      "cell_type": "code",
      "execution_count": null,
      "source": [
        "# Entraînement du modèle AutoGluon\n",
        "\n",
        "predictor = TabularPredictor(\n",
        "    label=\"TARGET_5Yrs\",\n",
        "    problem_type=\"binary\",\n",
        "    eval_metric=\"f1\",\n",
        "    sample_weight=\"auto_weight\"\n",
        ").fit(\n",
        "   train_df,\n",
        "   time_limit=900,\n",
        "   presets='best_quality'\n",
        ")"
      ],
      "outputs": [
        {
          "output_type": "stream",
          "name": "stderr",
          "text": [
            "No path specified. Models will be saved in: \"AutogluonModels/ag-20210903_130843/\"\n",
            "Presets specified: ['best_quality']\n",
            "Beginning AutoGluon training ... Time limit = 900s\n",
            "AutoGluon will save models to \"AutogluonModels/ag-20210903_130843/\"\n",
            "AutoGluon Version:  0.3.1\n",
            "Train Data Rows:    1018\n",
            "Train Data Columns: 11\n",
            "Preprocessing data ...\n",
            "NumExpr defaulting to 2 threads.\n",
            "Selected class <--> label mapping:  class 1 = 1, class 0 = 0\n",
            "Using Feature Generators to preprocess the data ...\n",
            "Fitting AutoMLPipelineFeatureGenerator...\n",
            "\tAvailable Memory:                    12692.97 MB\n",
            "\tTrain Data (Original)  Memory Usage: 0.09 MB (0.0% of available memory)\n",
            "\tInferring data type of each feature based on column values. Set feature_metadata_in to manually specify special dtypes of the features.\n",
            "\tStage 1 Generators:\n",
            "\t\tFitting AsTypeFeatureGenerator...\n",
            "\tStage 2 Generators:\n",
            "\t\tFitting FillNaFeatureGenerator...\n",
            "\tStage 3 Generators:\n",
            "\t\tFitting IdentityFeatureGenerator...\n",
            "\tStage 4 Generators:\n",
            "\t\tFitting DropUniqueFeatureGenerator...\n",
            "\tTypes of features in original data (raw dtype, special dtypes):\n",
            "\t\t('float', []) : 10 | ['PTS', 'FG%', '3P%', 'FT%', 'OREB', ...]\n",
            "\t\t('int', [])   :  1 | ['GP']\n",
            "\tTypes of features in processed data (raw dtype, special dtypes):\n",
            "\t\t('float', []) : 10 | ['PTS', 'FG%', '3P%', 'FT%', 'OREB', ...]\n",
            "\t\t('int', [])   :  1 | ['GP']\n",
            "\t0.1s = Fit runtime\n",
            "\t11 features in original data used to generate 11 features in processed data.\n",
            "\tTrain Data (Processed) Memory Usage: 0.09 MB (0.0% of available memory)\n",
            "Data preprocessing and feature engineering runtime = 0.11s ...\n",
            "AutoGluon will gauge predictive performance using evaluation metric: 'f1'\n",
            "\tTo change this, specify the eval_metric argument of fit()\n",
            "AutoGluon will fit 2 stack levels (L1 to L2) ...\n",
            "Fitting 13 L1 models ...\n",
            "Fitting model: KNeighborsUnif_BAG_L1 ... Training model for up to 599.77s of the 899.88s of remaining time.\n",
            "\t0.7586\t = Validation score   (f1)\n",
            "\t0.01s\t = Training   runtime\n",
            "\t0.1s\t = Validation runtime\n",
            "Fitting model: KNeighborsDist_BAG_L1 ... Training model for up to 599.63s of the 899.73s of remaining time.\n",
            "\t0.7513\t = Validation score   (f1)\n",
            "\t0.01s\t = Training   runtime\n",
            "\t0.1s\t = Validation runtime\n",
            "Fitting model: LightGBMXT_BAG_L1 ... Training model for up to 599.49s of the 899.59s of remaining time.\n"
          ]
        },
        {
          "output_type": "error",
          "ename": "KeyboardInterrupt",
          "evalue": "ignored",
          "traceback": [
            "\u001b[0;31m---------------------------------------------------------------------------\u001b[0m",
            "\u001b[0;31mKeyboardInterrupt\u001b[0m                         Traceback (most recent call last)",
            "\u001b[0;32m<ipython-input-11-3a27b4b16925>\u001b[0m in \u001b[0;36m<module>\u001b[0;34m()\u001b[0m\n\u001b[1;32m      9\u001b[0m    \u001b[0mtrain_df\u001b[0m\u001b[0;34m,\u001b[0m\u001b[0;34m\u001b[0m\u001b[0;34m\u001b[0m\u001b[0m\n\u001b[1;32m     10\u001b[0m    \u001b[0mtime_limit\u001b[0m\u001b[0;34m=\u001b[0m\u001b[0;36m900\u001b[0m\u001b[0;34m,\u001b[0m\u001b[0;34m\u001b[0m\u001b[0;34m\u001b[0m\u001b[0m\n\u001b[0;32m---> 11\u001b[0;31m    \u001b[0mpresets\u001b[0m\u001b[0;34m=\u001b[0m\u001b[0;34m'best_quality'\u001b[0m\u001b[0;34m\u001b[0m\u001b[0;34m\u001b[0m\u001b[0m\n\u001b[0m\u001b[1;32m     12\u001b[0m )\n",
            "\u001b[0;32m/usr/local/lib/python3.7/dist-packages/autogluon/core/utils/decorators.py\u001b[0m in \u001b[0;36m_call\u001b[0;34m(*args, **kwargs)\u001b[0m\n\u001b[1;32m     27\u001b[0m         \u001b[0;32mdef\u001b[0m \u001b[0m_call\u001b[0m\u001b[0;34m(\u001b[0m\u001b[0;34m*\u001b[0m\u001b[0margs\u001b[0m\u001b[0;34m,\u001b[0m \u001b[0;34m**\u001b[0m\u001b[0mkwargs\u001b[0m\u001b[0;34m)\u001b[0m\u001b[0;34m:\u001b[0m\u001b[0;34m\u001b[0m\u001b[0;34m\u001b[0m\u001b[0m\n\u001b[1;32m     28\u001b[0m             \u001b[0mgargs\u001b[0m\u001b[0;34m,\u001b[0m \u001b[0mgkwargs\u001b[0m \u001b[0;34m=\u001b[0m \u001b[0mg\u001b[0m\u001b[0;34m(\u001b[0m\u001b[0;34m*\u001b[0m\u001b[0mother_args\u001b[0m\u001b[0;34m,\u001b[0m \u001b[0;34m*\u001b[0m\u001b[0margs\u001b[0m\u001b[0;34m,\u001b[0m \u001b[0;34m**\u001b[0m\u001b[0mkwargs\u001b[0m\u001b[0;34m)\u001b[0m\u001b[0;34m\u001b[0m\u001b[0;34m\u001b[0m\u001b[0m\n\u001b[0;32m---> 29\u001b[0;31m             \u001b[0;32mreturn\u001b[0m \u001b[0mf\u001b[0m\u001b[0;34m(\u001b[0m\u001b[0;34m*\u001b[0m\u001b[0mgargs\u001b[0m\u001b[0;34m,\u001b[0m \u001b[0;34m**\u001b[0m\u001b[0mgkwargs\u001b[0m\u001b[0;34m)\u001b[0m\u001b[0;34m\u001b[0m\u001b[0;34m\u001b[0m\u001b[0m\n\u001b[0m\u001b[1;32m     30\u001b[0m         \u001b[0;32mreturn\u001b[0m \u001b[0m_call\u001b[0m\u001b[0;34m\u001b[0m\u001b[0;34m\u001b[0m\u001b[0m\n\u001b[1;32m     31\u001b[0m     \u001b[0;32mreturn\u001b[0m \u001b[0m_unpack_inner\u001b[0m\u001b[0;34m\u001b[0m\u001b[0;34m\u001b[0m\u001b[0m\n",
            "\u001b[0;32m/usr/local/lib/python3.7/dist-packages/autogluon/tabular/predictor/predictor.py\u001b[0m in \u001b[0;36mfit\u001b[0;34m(self, train_data, tuning_data, time_limit, presets, hyperparameters, feature_metadata, **kwargs)\u001b[0m\n\u001b[1;32m    745\u001b[0m         self._learner.fit(X=train_data, X_val=tuning_data, X_unlabeled=unlabeled_data,\n\u001b[1;32m    746\u001b[0m                           \u001b[0mholdout_frac\u001b[0m\u001b[0;34m=\u001b[0m\u001b[0mholdout_frac\u001b[0m\u001b[0;34m,\u001b[0m \u001b[0mnum_bag_folds\u001b[0m\u001b[0;34m=\u001b[0m\u001b[0mnum_bag_folds\u001b[0m\u001b[0;34m,\u001b[0m \u001b[0mnum_bag_sets\u001b[0m\u001b[0;34m=\u001b[0m\u001b[0mnum_bag_sets\u001b[0m\u001b[0;34m,\u001b[0m \u001b[0mnum_stack_levels\u001b[0m\u001b[0;34m=\u001b[0m\u001b[0mnum_stack_levels\u001b[0m\u001b[0;34m,\u001b[0m\u001b[0;34m\u001b[0m\u001b[0;34m\u001b[0m\u001b[0m\n\u001b[0;32m--> 747\u001b[0;31m                           hyperparameters=hyperparameters, core_kwargs=core_kwargs, time_limit=time_limit, verbosity=verbosity, use_bag_holdout=use_bag_holdout)\n\u001b[0m\u001b[1;32m    748\u001b[0m         \u001b[0mself\u001b[0m\u001b[0;34m.\u001b[0m\u001b[0m_set_post_fit_vars\u001b[0m\u001b[0;34m(\u001b[0m\u001b[0;34m)\u001b[0m\u001b[0;34m\u001b[0m\u001b[0;34m\u001b[0m\u001b[0m\n\u001b[1;32m    749\u001b[0m \u001b[0;34m\u001b[0m\u001b[0m\n",
            "\u001b[0;32m/usr/local/lib/python3.7/dist-packages/autogluon/tabular/learner/abstract_learner.py\u001b[0m in \u001b[0;36mfit\u001b[0;34m(self, X, X_val, **kwargs)\u001b[0m\n\u001b[1;32m    147\u001b[0m             \u001b[0;32mraise\u001b[0m \u001b[0mAssertionError\u001b[0m\u001b[0;34m(\u001b[0m\u001b[0;34m'Learner is already fit.'\u001b[0m\u001b[0;34m)\u001b[0m\u001b[0;34m\u001b[0m\u001b[0;34m\u001b[0m\u001b[0m\n\u001b[1;32m    148\u001b[0m         \u001b[0mself\u001b[0m\u001b[0;34m.\u001b[0m\u001b[0m_validate_fit_input\u001b[0m\u001b[0;34m(\u001b[0m\u001b[0mX\u001b[0m\u001b[0;34m=\u001b[0m\u001b[0mX\u001b[0m\u001b[0;34m,\u001b[0m \u001b[0mX_val\u001b[0m\u001b[0;34m=\u001b[0m\u001b[0mX_val\u001b[0m\u001b[0;34m,\u001b[0m \u001b[0;34m**\u001b[0m\u001b[0mkwargs\u001b[0m\u001b[0;34m)\u001b[0m\u001b[0;34m\u001b[0m\u001b[0;34m\u001b[0m\u001b[0m\n\u001b[0;32m--> 149\u001b[0;31m         \u001b[0;32mreturn\u001b[0m \u001b[0mself\u001b[0m\u001b[0;34m.\u001b[0m\u001b[0m_fit\u001b[0m\u001b[0;34m(\u001b[0m\u001b[0mX\u001b[0m\u001b[0;34m=\u001b[0m\u001b[0mX\u001b[0m\u001b[0;34m,\u001b[0m \u001b[0mX_val\u001b[0m\u001b[0;34m=\u001b[0m\u001b[0mX_val\u001b[0m\u001b[0;34m,\u001b[0m \u001b[0;34m**\u001b[0m\u001b[0mkwargs\u001b[0m\u001b[0;34m)\u001b[0m\u001b[0;34m\u001b[0m\u001b[0;34m\u001b[0m\u001b[0m\n\u001b[0m\u001b[1;32m    150\u001b[0m \u001b[0;34m\u001b[0m\u001b[0m\n\u001b[1;32m    151\u001b[0m     def _fit(self, X: DataFrame, X_val: DataFrame = None, scheduler_options=None, hyperparameter_tune=False,\n",
            "\u001b[0;32m/usr/local/lib/python3.7/dist-packages/autogluon/tabular/learner/default_learner.py\u001b[0m in \u001b[0;36m_fit\u001b[0;34m(self, X, X_val, X_unlabeled, holdout_frac, num_bag_folds, num_bag_sets, time_limit, verbosity, **trainer_fit_kwargs)\u001b[0m\n\u001b[1;32m     97\u001b[0m \u001b[0;34m\u001b[0m\u001b[0m\n\u001b[1;32m     98\u001b[0m         \u001b[0mself\u001b[0m\u001b[0;34m.\u001b[0m\u001b[0msave\u001b[0m\u001b[0;34m(\u001b[0m\u001b[0;34m)\u001b[0m\u001b[0;34m\u001b[0m\u001b[0;34m\u001b[0m\u001b[0m\n\u001b[0;32m---> 99\u001b[0;31m         \u001b[0mtrainer\u001b[0m\u001b[0;34m.\u001b[0m\u001b[0mfit\u001b[0m\u001b[0;34m(\u001b[0m\u001b[0mX\u001b[0m\u001b[0;34m,\u001b[0m \u001b[0my\u001b[0m\u001b[0;34m,\u001b[0m \u001b[0mX_val\u001b[0m\u001b[0;34m=\u001b[0m\u001b[0mX_val\u001b[0m\u001b[0;34m,\u001b[0m \u001b[0my_val\u001b[0m\u001b[0;34m=\u001b[0m\u001b[0my_val\u001b[0m\u001b[0;34m,\u001b[0m \u001b[0mX_unlabeled\u001b[0m\u001b[0;34m=\u001b[0m\u001b[0mX_unlabeled\u001b[0m\u001b[0;34m,\u001b[0m \u001b[0mholdout_frac\u001b[0m\u001b[0;34m=\u001b[0m\u001b[0mholdout_frac\u001b[0m\u001b[0;34m,\u001b[0m \u001b[0mtime_limit\u001b[0m\u001b[0;34m=\u001b[0m\u001b[0mtime_limit_trainer\u001b[0m\u001b[0;34m,\u001b[0m \u001b[0mgroups\u001b[0m\u001b[0;34m=\u001b[0m\u001b[0mgroups\u001b[0m\u001b[0;34m,\u001b[0m \u001b[0;34m**\u001b[0m\u001b[0mtrainer_fit_kwargs\u001b[0m\u001b[0;34m)\u001b[0m\u001b[0;34m\u001b[0m\u001b[0;34m\u001b[0m\u001b[0m\n\u001b[0m\u001b[1;32m    100\u001b[0m         \u001b[0mself\u001b[0m\u001b[0;34m.\u001b[0m\u001b[0msave_trainer\u001b[0m\u001b[0;34m(\u001b[0m\u001b[0mtrainer\u001b[0m\u001b[0;34m=\u001b[0m\u001b[0mtrainer\u001b[0m\u001b[0;34m)\u001b[0m\u001b[0;34m\u001b[0m\u001b[0;34m\u001b[0m\u001b[0m\n\u001b[1;32m    101\u001b[0m         \u001b[0mtime_end\u001b[0m \u001b[0;34m=\u001b[0m \u001b[0mtime\u001b[0m\u001b[0;34m.\u001b[0m\u001b[0mtime\u001b[0m\u001b[0;34m(\u001b[0m\u001b[0;34m)\u001b[0m\u001b[0;34m\u001b[0m\u001b[0;34m\u001b[0m\u001b[0m\n",
            "\u001b[0;32m/usr/local/lib/python3.7/dist-packages/autogluon/tabular/trainer/auto_trainer.py\u001b[0m in \u001b[0;36mfit\u001b[0;34m(self, X, y, hyperparameters, X_val, y_val, X_unlabeled, feature_prune, holdout_frac, num_stack_levels, core_kwargs, time_limit, use_bag_holdout, groups, **kwargs)\u001b[0m\n\u001b[1;32m     72\u001b[0m         self._train_multi_and_ensemble(X, y, X_val, y_val, X_unlabeled=X_unlabeled, hyperparameters=hyperparameters,\n\u001b[1;32m     73\u001b[0m                                        \u001b[0mfeature_prune\u001b[0m\u001b[0;34m=\u001b[0m\u001b[0mfeature_prune\u001b[0m\u001b[0;34m,\u001b[0m\u001b[0;34m\u001b[0m\u001b[0;34m\u001b[0m\u001b[0m\n\u001b[0;32m---> 74\u001b[0;31m                                        num_stack_levels=num_stack_levels, time_limit=time_limit, core_kwargs=core_kwargs, groups=groups)\n\u001b[0m\u001b[1;32m     75\u001b[0m \u001b[0;34m\u001b[0m\u001b[0m\n\u001b[1;32m     76\u001b[0m     \u001b[0;32mdef\u001b[0m \u001b[0mconstruct_model_templates_distillation\u001b[0m\u001b[0;34m(\u001b[0m\u001b[0mself\u001b[0m\u001b[0;34m,\u001b[0m \u001b[0mhyperparameters\u001b[0m\u001b[0;34m,\u001b[0m \u001b[0;34m**\u001b[0m\u001b[0mkwargs\u001b[0m\u001b[0;34m)\u001b[0m\u001b[0;34m:\u001b[0m\u001b[0;34m\u001b[0m\u001b[0;34m\u001b[0m\u001b[0m\n",
            "\u001b[0;32m/usr/local/lib/python3.7/dist-packages/autogluon/tabular/trainer/abstract_trainer.py\u001b[0m in \u001b[0;36m_train_multi_and_ensemble\u001b[0;34m(self, X, y, X_val, y_val, hyperparameters, X_unlabeled, num_stack_levels, time_limit, groups, **kwargs)\u001b[0m\n\u001b[1;32m   1378\u001b[0m         \u001b[0mself\u001b[0m\u001b[0;34m.\u001b[0m\u001b[0m_num_cols_train\u001b[0m \u001b[0;34m=\u001b[0m \u001b[0mlen\u001b[0m\u001b[0;34m(\u001b[0m\u001b[0mlist\u001b[0m\u001b[0;34m(\u001b[0m\u001b[0mX\u001b[0m\u001b[0;34m.\u001b[0m\u001b[0mcolumns\u001b[0m\u001b[0;34m)\u001b[0m\u001b[0;34m)\u001b[0m\u001b[0;34m\u001b[0m\u001b[0;34m\u001b[0m\u001b[0m\n\u001b[1;32m   1379\u001b[0m         model_names_fit = self.train_multi_levels(X, y, hyperparameters=hyperparameters, X_val=X_val, y_val=y_val,\n\u001b[0;32m-> 1380\u001b[0;31m                                                   X_unlabeled=X_unlabeled, level_start=1, level_end=num_stack_levels+1, time_limit=time_limit, **kwargs)\n\u001b[0m\u001b[1;32m   1381\u001b[0m         \u001b[0;32mif\u001b[0m \u001b[0mlen\u001b[0m\u001b[0;34m(\u001b[0m\u001b[0mself\u001b[0m\u001b[0;34m.\u001b[0m\u001b[0mget_model_names\u001b[0m\u001b[0;34m(\u001b[0m\u001b[0;34m)\u001b[0m\u001b[0;34m)\u001b[0m \u001b[0;34m==\u001b[0m \u001b[0;36m0\u001b[0m\u001b[0;34m:\u001b[0m\u001b[0;34m\u001b[0m\u001b[0;34m\u001b[0m\u001b[0m\n\u001b[1;32m   1382\u001b[0m             \u001b[0;32mraise\u001b[0m \u001b[0mValueError\u001b[0m\u001b[0;34m(\u001b[0m\u001b[0;34m'AutoGluon did not successfully train any models'\u001b[0m\u001b[0;34m)\u001b[0m\u001b[0;34m\u001b[0m\u001b[0;34m\u001b[0m\u001b[0m\n",
            "\u001b[0;32m/usr/local/lib/python3.7/dist-packages/autogluon/tabular/trainer/abstract_trainer.py\u001b[0m in \u001b[0;36mtrain_multi_levels\u001b[0;34m(self, X, y, hyperparameters, X_val, y_val, X_unlabeled, base_model_names, feature_prune, core_kwargs, aux_kwargs, level_start, level_end, time_limit, name_suffix, relative_stack, level_time_modifier)\u001b[0m\n\u001b[1;32m    288\u001b[0m                 \u001b[0mmodels\u001b[0m\u001b[0;34m=\u001b[0m\u001b[0mhyperparameters\u001b[0m\u001b[0;34m,\u001b[0m \u001b[0mlevel\u001b[0m\u001b[0;34m=\u001b[0m\u001b[0mlevel\u001b[0m\u001b[0;34m,\u001b[0m \u001b[0mbase_model_names\u001b[0m\u001b[0;34m=\u001b[0m\u001b[0mbase_model_names\u001b[0m\u001b[0;34m,\u001b[0m\u001b[0;34m\u001b[0m\u001b[0;34m\u001b[0m\u001b[0m\n\u001b[1;32m    289\u001b[0m                 \u001b[0mfeature_prune\u001b[0m\u001b[0;34m=\u001b[0m\u001b[0mfeature_prune\u001b[0m\u001b[0;34m,\u001b[0m\u001b[0;34m\u001b[0m\u001b[0;34m\u001b[0m\u001b[0m\n\u001b[0;32m--> 290\u001b[0;31m                 \u001b[0mcore_kwargs\u001b[0m\u001b[0;34m=\u001b[0m\u001b[0mcore_kwargs_level\u001b[0m\u001b[0;34m,\u001b[0m \u001b[0maux_kwargs\u001b[0m\u001b[0;34m=\u001b[0m\u001b[0maux_kwargs_level\u001b[0m\u001b[0;34m,\u001b[0m \u001b[0mname_suffix\u001b[0m\u001b[0;34m=\u001b[0m\u001b[0mname_suffix\u001b[0m\u001b[0;34m,\u001b[0m\u001b[0;34m\u001b[0m\u001b[0;34m\u001b[0m\u001b[0m\n\u001b[0m\u001b[1;32m    291\u001b[0m             )\n\u001b[1;32m    292\u001b[0m             \u001b[0mmodel_names_fit\u001b[0m \u001b[0;34m+=\u001b[0m \u001b[0mbase_model_names\u001b[0m \u001b[0;34m+\u001b[0m \u001b[0maux_models\u001b[0m\u001b[0;34m\u001b[0m\u001b[0;34m\u001b[0m\u001b[0m\n",
            "\u001b[0;32m/usr/local/lib/python3.7/dist-packages/autogluon/tabular/trainer/abstract_trainer.py\u001b[0m in \u001b[0;36mstack_new_level\u001b[0;34m(self, X, y, models, X_val, y_val, X_unlabeled, level, base_model_names, feature_prune, core_kwargs, aux_kwargs, name_suffix)\u001b[0m\n\u001b[1;32m    314\u001b[0m             \u001b[0maux_kwargs\u001b[0m\u001b[0;34m[\u001b[0m\u001b[0;34m'name_suffix'\u001b[0m\u001b[0;34m]\u001b[0m \u001b[0;34m=\u001b[0m \u001b[0maux_kwargs\u001b[0m\u001b[0;34m.\u001b[0m\u001b[0mget\u001b[0m\u001b[0;34m(\u001b[0m\u001b[0;34m'name_suffix'\u001b[0m\u001b[0;34m,\u001b[0m \u001b[0;34m''\u001b[0m\u001b[0;34m)\u001b[0m \u001b[0;34m+\u001b[0m \u001b[0mname_suffix\u001b[0m\u001b[0;34m\u001b[0m\u001b[0;34m\u001b[0m\u001b[0m\n\u001b[1;32m    315\u001b[0m         core_models = self.stack_new_level_core(X=X, y=y, X_val=X_val, y_val=y_val, X_unlabeled=X_unlabeled, models=models,\n\u001b[0;32m--> 316\u001b[0;31m                                                 level=level, base_model_names=base_model_names, feature_prune=feature_prune, **core_kwargs)\n\u001b[0m\u001b[1;32m    317\u001b[0m \u001b[0;34m\u001b[0m\u001b[0m\n\u001b[1;32m    318\u001b[0m         \u001b[0;32mif\u001b[0m \u001b[0mX_val\u001b[0m \u001b[0;32mis\u001b[0m \u001b[0;32mNone\u001b[0m\u001b[0;34m:\u001b[0m\u001b[0;34m\u001b[0m\u001b[0;34m\u001b[0m\u001b[0m\n",
            "\u001b[0;32m/usr/local/lib/python3.7/dist-packages/autogluon/tabular/trainer/abstract_trainer.py\u001b[0m in \u001b[0;36mstack_new_level_core\u001b[0;34m(self, X, y, models, X_val, y_val, X_unlabeled, level, base_model_names, stack_name, ag_args, ag_args_fit, ag_args_ensemble, excluded_model_types, ensemble_type, name_suffix, get_models_func, refit_full, **kwargs)\u001b[0m\n\u001b[1;32m    394\u001b[0m         \u001b[0;31m# FIXME: TODO: v0.1 X_unlabeled isn't cached so it won't be available during refit_full or fit_extra.\u001b[0m\u001b[0;34m\u001b[0m\u001b[0;34m\u001b[0m\u001b[0;34m\u001b[0m\u001b[0m\n\u001b[1;32m    395\u001b[0m         return self._train_multi(X=X_init, y=y, X_val=X_val, y_val=y_val, X_unlabeled=X_unlabeled,\n\u001b[0;32m--> 396\u001b[0;31m                                  models=models, level=level, stack_name=stack_name, fit_kwargs=fit_kwargs, **kwargs)\n\u001b[0m\u001b[1;32m    397\u001b[0m \u001b[0;34m\u001b[0m\u001b[0m\n\u001b[1;32m    398\u001b[0m     \u001b[0;31m# TODO: Consider making level be auto-determined based off of max(base_model_levels)+1\u001b[0m\u001b[0;34m\u001b[0m\u001b[0;34m\u001b[0m\u001b[0;34m\u001b[0m\u001b[0m\n",
            "\u001b[0;32m/usr/local/lib/python3.7/dist-packages/autogluon/tabular/trainer/abstract_trainer.py\u001b[0m in \u001b[0;36m_train_multi\u001b[0;34m(self, X, y, models, hyperparameter_tune_kwargs, feature_prune, k_fold, n_repeats, n_repeat_start, time_limit, **kwargs)\u001b[0m\n\u001b[1;32m   1350\u001b[0m             \u001b[0mtime_start\u001b[0m \u001b[0;34m=\u001b[0m \u001b[0mtime\u001b[0m\u001b[0;34m.\u001b[0m\u001b[0mtime\u001b[0m\u001b[0;34m(\u001b[0m\u001b[0;34m)\u001b[0m\u001b[0;34m\u001b[0m\u001b[0;34m\u001b[0m\u001b[0m\n\u001b[1;32m   1351\u001b[0m             model_names_trained = self._train_multi_initial(X=X, y=y, models=models, k_fold=k_fold, n_repeats=n_repeats_initial, hyperparameter_tune_kwargs=hyperparameter_tune_kwargs, feature_prune=feature_prune,\n\u001b[0;32m-> 1352\u001b[0;31m                                                             time_limit=time_limit, **kwargs)\n\u001b[0m\u001b[1;32m   1353\u001b[0m             \u001b[0mn_repeat_start\u001b[0m \u001b[0;34m=\u001b[0m \u001b[0mn_repeats_initial\u001b[0m\u001b[0;34m\u001b[0m\u001b[0;34m\u001b[0m\u001b[0m\n\u001b[1;32m   1354\u001b[0m             \u001b[0;32mif\u001b[0m \u001b[0mtime_limit\u001b[0m \u001b[0;32mis\u001b[0m \u001b[0;32mnot\u001b[0m \u001b[0;32mNone\u001b[0m\u001b[0;34m:\u001b[0m\u001b[0;34m\u001b[0m\u001b[0;34m\u001b[0m\u001b[0m\n",
            "\u001b[0;32m/usr/local/lib/python3.7/dist-packages/autogluon/tabular/trainer/abstract_trainer.py\u001b[0m in \u001b[0;36m_train_multi_initial\u001b[0;34m(self, X, y, models, k_fold, n_repeats, hyperparameter_tune_kwargs, feature_prune, time_limit, **kwargs)\u001b[0m\n\u001b[1;32m   1278\u001b[0m                     \u001b[0mtime_limit\u001b[0m \u001b[0;34m=\u001b[0m \u001b[0mtime_limit\u001b[0m \u001b[0;34m-\u001b[0m \u001b[0;34m(\u001b[0m\u001b[0mtime\u001b[0m\u001b[0;34m.\u001b[0m\u001b[0mtime\u001b[0m\u001b[0;34m(\u001b[0m\u001b[0;34m)\u001b[0m \u001b[0;34m-\u001b[0m \u001b[0mtime_start\u001b[0m\u001b[0;34m)\u001b[0m\u001b[0;34m\u001b[0m\u001b[0;34m\u001b[0m\u001b[0m\n\u001b[1;32m   1279\u001b[0m \u001b[0;34m\u001b[0m\u001b[0m\n\u001b[0;32m-> 1280\u001b[0;31m             \u001b[0mmodels\u001b[0m \u001b[0;34m=\u001b[0m \u001b[0mself\u001b[0m\u001b[0;34m.\u001b[0m\u001b[0m_train_multi_fold\u001b[0m\u001b[0;34m(\u001b[0m\u001b[0mmodels\u001b[0m\u001b[0;34m=\u001b[0m\u001b[0mmodels\u001b[0m\u001b[0;34m,\u001b[0m \u001b[0mhyperparameter_tune_kwargs\u001b[0m\u001b[0;34m=\u001b[0m\u001b[0;32mNone\u001b[0m\u001b[0;34m,\u001b[0m \u001b[0mfeature_prune\u001b[0m\u001b[0;34m=\u001b[0m\u001b[0;32mFalse\u001b[0m\u001b[0;34m,\u001b[0m \u001b[0mk_fold_start\u001b[0m\u001b[0;34m=\u001b[0m\u001b[0mk_fold_start\u001b[0m\u001b[0;34m,\u001b[0m \u001b[0mk_fold_end\u001b[0m\u001b[0;34m=\u001b[0m\u001b[0mk_fold\u001b[0m\u001b[0;34m,\u001b[0m \u001b[0mn_repeats\u001b[0m\u001b[0;34m=\u001b[0m\u001b[0mn_repeats\u001b[0m\u001b[0;34m,\u001b[0m \u001b[0mn_repeat_start\u001b[0m\u001b[0;34m=\u001b[0m\u001b[0;36m0\u001b[0m\u001b[0;34m,\u001b[0m \u001b[0mtime_limit\u001b[0m\u001b[0;34m=\u001b[0m\u001b[0mtime_limit\u001b[0m\u001b[0;34m,\u001b[0m \u001b[0;34m**\u001b[0m\u001b[0mfit_args\u001b[0m\u001b[0;34m)\u001b[0m\u001b[0;34m\u001b[0m\u001b[0;34m\u001b[0m\u001b[0m\n\u001b[0m\u001b[1;32m   1281\u001b[0m \u001b[0;34m\u001b[0m\u001b[0m\n\u001b[1;32m   1282\u001b[0m         \u001b[0;32mreturn\u001b[0m \u001b[0mmodels\u001b[0m\u001b[0;34m\u001b[0m\u001b[0;34m\u001b[0m\u001b[0m\n",
            "\u001b[0;32m/usr/local/lib/python3.7/dist-packages/autogluon/tabular/trainer/abstract_trainer.py\u001b[0m in \u001b[0;36m_train_multi_fold\u001b[0;34m(self, X, y, models, time_limit, time_split, time_ratio, hyperparameter_tune_kwargs, **kwargs)\u001b[0m\n\u001b[1;32m   1320\u001b[0m                     \u001b[0mtime_left\u001b[0m \u001b[0;34m=\u001b[0m \u001b[0mtime_limit\u001b[0m \u001b[0;34m-\u001b[0m \u001b[0;34m(\u001b[0m\u001b[0mtime_start_model\u001b[0m \u001b[0;34m-\u001b[0m \u001b[0mtime_start\u001b[0m\u001b[0;34m)\u001b[0m\u001b[0;34m\u001b[0m\u001b[0;34m\u001b[0m\u001b[0m\n\u001b[1;32m   1321\u001b[0m             model_name_trained_lst = self._train_single_full(X, y, model, time_limit=time_left,\n\u001b[0;32m-> 1322\u001b[0;31m                                                              hyperparameter_tune_kwargs=hyperparameter_tune_kwargs_model, **kwargs)\n\u001b[0m\u001b[1;32m   1323\u001b[0m \u001b[0;34m\u001b[0m\u001b[0m\n\u001b[1;32m   1324\u001b[0m             \u001b[0;32mif\u001b[0m \u001b[0mself\u001b[0m\u001b[0;34m.\u001b[0m\u001b[0mlow_memory\u001b[0m\u001b[0;34m:\u001b[0m\u001b[0;34m\u001b[0m\u001b[0;34m\u001b[0m\u001b[0m\n",
            "\u001b[0;32m/usr/local/lib/python3.7/dist-packages/autogluon/tabular/trainer/abstract_trainer.py\u001b[0m in \u001b[0;36m_train_single_full\u001b[0;34m(self, X, y, model, X_unlabeled, X_val, y_val, feature_prune, hyperparameter_tune_kwargs, stack_name, k_fold, k_fold_start, k_fold_end, n_repeats, n_repeat_start, level, time_limit, fit_kwargs, **kwargs)\u001b[0m\n\u001b[1;32m   1179\u001b[0m                     \u001b[0mcompute_base_preds\u001b[0m\u001b[0;34m=\u001b[0m\u001b[0;32mFalse\u001b[0m\u001b[0;34m,\u001b[0m\u001b[0;34m\u001b[0m\u001b[0;34m\u001b[0m\u001b[0m\n\u001b[1;32m   1180\u001b[0m                 ))\n\u001b[0;32m-> 1181\u001b[0;31m             \u001b[0mmodel_names_trained\u001b[0m \u001b[0;34m=\u001b[0m \u001b[0mself\u001b[0m\u001b[0;34m.\u001b[0m\u001b[0m_train_and_save\u001b[0m\u001b[0;34m(\u001b[0m\u001b[0mX\u001b[0m\u001b[0;34m,\u001b[0m \u001b[0my\u001b[0m\u001b[0;34m,\u001b[0m \u001b[0mmodel\u001b[0m\u001b[0;34m,\u001b[0m \u001b[0mX_val\u001b[0m\u001b[0;34m,\u001b[0m \u001b[0my_val\u001b[0m\u001b[0;34m,\u001b[0m \u001b[0mX_unlabeled\u001b[0m\u001b[0;34m=\u001b[0m\u001b[0mX_unlabeled\u001b[0m\u001b[0;34m,\u001b[0m \u001b[0mstack_name\u001b[0m\u001b[0;34m=\u001b[0m\u001b[0mstack_name\u001b[0m\u001b[0;34m,\u001b[0m \u001b[0mlevel\u001b[0m\u001b[0;34m=\u001b[0m\u001b[0mlevel\u001b[0m\u001b[0;34m,\u001b[0m \u001b[0;34m**\u001b[0m\u001b[0mmodel_fit_kwargs\u001b[0m\u001b[0;34m)\u001b[0m\u001b[0;34m\u001b[0m\u001b[0;34m\u001b[0m\u001b[0m\n\u001b[0m\u001b[1;32m   1182\u001b[0m         \u001b[0mself\u001b[0m\u001b[0;34m.\u001b[0m\u001b[0msave\u001b[0m\u001b[0;34m(\u001b[0m\u001b[0;34m)\u001b[0m\u001b[0;34m\u001b[0m\u001b[0;34m\u001b[0m\u001b[0m\n\u001b[1;32m   1183\u001b[0m         \u001b[0;32mreturn\u001b[0m \u001b[0mmodel_names_trained\u001b[0m\u001b[0;34m\u001b[0m\u001b[0;34m\u001b[0m\u001b[0m\n",
            "\u001b[0;32m/usr/local/lib/python3.7/dist-packages/autogluon/tabular/trainer/abstract_trainer.py\u001b[0m in \u001b[0;36m_train_and_save\u001b[0;34m(self, X, y, model, X_val, y_val, stack_name, level, **model_fit_kwargs)\u001b[0m\n\u001b[1;32m    960\u001b[0m                 \u001b[0mfit_log_message\u001b[0m \u001b[0;34m+=\u001b[0m \u001b[0;34mf' Training model for up to {round(time_limit, 2)}s of the {round(time_left_total, 2)}s of remaining time.'\u001b[0m\u001b[0;34m\u001b[0m\u001b[0;34m\u001b[0m\u001b[0m\n\u001b[1;32m    961\u001b[0m             \u001b[0mlogger\u001b[0m\u001b[0;34m.\u001b[0m\u001b[0mlog\u001b[0m\u001b[0;34m(\u001b[0m\u001b[0;36m20\u001b[0m\u001b[0;34m,\u001b[0m \u001b[0mfit_log_message\u001b[0m\u001b[0;34m)\u001b[0m\u001b[0;34m\u001b[0m\u001b[0;34m\u001b[0m\u001b[0m\n\u001b[0;32m--> 962\u001b[0;31m             \u001b[0mmodel\u001b[0m \u001b[0;34m=\u001b[0m \u001b[0mself\u001b[0m\u001b[0;34m.\u001b[0m\u001b[0m_train_single\u001b[0m\u001b[0;34m(\u001b[0m\u001b[0mX\u001b[0m\u001b[0;34m,\u001b[0m \u001b[0my\u001b[0m\u001b[0;34m,\u001b[0m \u001b[0mmodel\u001b[0m\u001b[0;34m,\u001b[0m \u001b[0mX_val\u001b[0m\u001b[0;34m,\u001b[0m \u001b[0my_val\u001b[0m\u001b[0;34m,\u001b[0m \u001b[0;34m**\u001b[0m\u001b[0mmodel_fit_kwargs\u001b[0m\u001b[0;34m)\u001b[0m\u001b[0;34m\u001b[0m\u001b[0;34m\u001b[0m\u001b[0m\n\u001b[0m\u001b[1;32m    963\u001b[0m             \u001b[0mfit_end_time\u001b[0m \u001b[0;34m=\u001b[0m \u001b[0mtime\u001b[0m\u001b[0;34m.\u001b[0m\u001b[0mtime\u001b[0m\u001b[0;34m(\u001b[0m\u001b[0;34m)\u001b[0m\u001b[0;34m\u001b[0m\u001b[0;34m\u001b[0m\u001b[0m\n\u001b[1;32m    964\u001b[0m             \u001b[0;32mif\u001b[0m \u001b[0mself\u001b[0m\u001b[0;34m.\u001b[0m\u001b[0mweight_evaluation\u001b[0m\u001b[0;34m:\u001b[0m\u001b[0;34m\u001b[0m\u001b[0;34m\u001b[0m\u001b[0m\n",
            "\u001b[0;32m/usr/local/lib/python3.7/dist-packages/autogluon/tabular/trainer/abstract_trainer.py\u001b[0m in \u001b[0;36m_train_single\u001b[0;34m(self, X, y, model, X_val, y_val, **model_fit_kwargs)\u001b[0m\n\u001b[1;32m    932\u001b[0m         \u001b[0mReturns\u001b[0m \u001b[0mtrained\u001b[0m \u001b[0mmodel\u001b[0m \u001b[0mobject\u001b[0m\u001b[0;34m.\u001b[0m\u001b[0;34m\u001b[0m\u001b[0;34m\u001b[0m\u001b[0m\n\u001b[1;32m    933\u001b[0m         \"\"\"\n\u001b[0;32m--> 934\u001b[0;31m         \u001b[0mmodel\u001b[0m \u001b[0;34m=\u001b[0m \u001b[0mmodel\u001b[0m\u001b[0;34m.\u001b[0m\u001b[0mfit\u001b[0m\u001b[0;34m(\u001b[0m\u001b[0mX\u001b[0m\u001b[0;34m=\u001b[0m\u001b[0mX\u001b[0m\u001b[0;34m,\u001b[0m \u001b[0my\u001b[0m\u001b[0;34m=\u001b[0m\u001b[0my\u001b[0m\u001b[0;34m,\u001b[0m \u001b[0mX_val\u001b[0m\u001b[0;34m=\u001b[0m\u001b[0mX_val\u001b[0m\u001b[0;34m,\u001b[0m \u001b[0my_val\u001b[0m\u001b[0;34m=\u001b[0m\u001b[0my_val\u001b[0m\u001b[0;34m,\u001b[0m \u001b[0;34m**\u001b[0m\u001b[0mmodel_fit_kwargs\u001b[0m\u001b[0;34m)\u001b[0m\u001b[0;34m\u001b[0m\u001b[0;34m\u001b[0m\u001b[0m\n\u001b[0m\u001b[1;32m    935\u001b[0m         \u001b[0;32mreturn\u001b[0m \u001b[0mmodel\u001b[0m\u001b[0;34m\u001b[0m\u001b[0;34m\u001b[0m\u001b[0m\n\u001b[1;32m    936\u001b[0m \u001b[0;34m\u001b[0m\u001b[0m\n",
            "\u001b[0;32m/usr/local/lib/python3.7/dist-packages/autogluon/core/models/abstract/abstract_model.py\u001b[0m in \u001b[0;36mfit\u001b[0;34m(self, **kwargs)\u001b[0m\n\u001b[1;32m    520\u001b[0m         \u001b[0;32mif\u001b[0m \u001b[0;34m'time_limit'\u001b[0m \u001b[0;32mnot\u001b[0m \u001b[0;32min\u001b[0m \u001b[0mkwargs\u001b[0m \u001b[0;32mor\u001b[0m \u001b[0mkwargs\u001b[0m\u001b[0;34m[\u001b[0m\u001b[0;34m'time_limit'\u001b[0m\u001b[0;34m]\u001b[0m \u001b[0;32mis\u001b[0m \u001b[0;32mNone\u001b[0m \u001b[0;32mor\u001b[0m \u001b[0mkwargs\u001b[0m\u001b[0;34m[\u001b[0m\u001b[0;34m'time_limit'\u001b[0m\u001b[0;34m]\u001b[0m \u001b[0;34m>\u001b[0m \u001b[0;36m0\u001b[0m\u001b[0;34m:\u001b[0m\u001b[0;34m\u001b[0m\u001b[0;34m\u001b[0m\u001b[0m\n\u001b[1;32m    521\u001b[0m             \u001b[0mself\u001b[0m\u001b[0;34m.\u001b[0m\u001b[0m_register_fit_metadata\u001b[0m\u001b[0;34m(\u001b[0m\u001b[0;34m**\u001b[0m\u001b[0mkwargs\u001b[0m\u001b[0;34m)\u001b[0m\u001b[0;34m\u001b[0m\u001b[0;34m\u001b[0m\u001b[0m\n\u001b[0;32m--> 522\u001b[0;31m             \u001b[0mout\u001b[0m \u001b[0;34m=\u001b[0m \u001b[0mself\u001b[0m\u001b[0;34m.\u001b[0m\u001b[0m_fit\u001b[0m\u001b[0;34m(\u001b[0m\u001b[0;34m**\u001b[0m\u001b[0mkwargs\u001b[0m\u001b[0;34m)\u001b[0m\u001b[0;34m\u001b[0m\u001b[0;34m\u001b[0m\u001b[0m\n\u001b[0m\u001b[1;32m    523\u001b[0m             \u001b[0;32mif\u001b[0m \u001b[0mout\u001b[0m \u001b[0;32mis\u001b[0m \u001b[0;32mNone\u001b[0m\u001b[0;34m:\u001b[0m\u001b[0;34m\u001b[0m\u001b[0;34m\u001b[0m\u001b[0m\n\u001b[1;32m    524\u001b[0m                 \u001b[0;32mreturn\u001b[0m \u001b[0mself\u001b[0m\u001b[0;34m\u001b[0m\u001b[0;34m\u001b[0m\u001b[0m\n",
            "\u001b[0;32m/usr/local/lib/python3.7/dist-packages/autogluon/core/models/ensemble/stacker_ensemble_model.py\u001b[0m in \u001b[0;36m_fit\u001b[0;34m(self, X, y, compute_base_preds, time_limit, **kwargs)\u001b[0m\n\u001b[1;32m    151\u001b[0m         \u001b[0;32mif\u001b[0m \u001b[0mtime_limit\u001b[0m \u001b[0;32mis\u001b[0m \u001b[0;32mnot\u001b[0m \u001b[0;32mNone\u001b[0m\u001b[0;34m:\u001b[0m\u001b[0;34m\u001b[0m\u001b[0;34m\u001b[0m\u001b[0m\n\u001b[1;32m    152\u001b[0m             \u001b[0mtime_limit\u001b[0m \u001b[0;34m=\u001b[0m \u001b[0mtime_limit\u001b[0m \u001b[0;34m-\u001b[0m \u001b[0;34m(\u001b[0m\u001b[0mtime\u001b[0m\u001b[0;34m.\u001b[0m\u001b[0mtime\u001b[0m\u001b[0;34m(\u001b[0m\u001b[0;34m)\u001b[0m \u001b[0;34m-\u001b[0m \u001b[0mstart_time\u001b[0m\u001b[0;34m)\u001b[0m\u001b[0;34m\u001b[0m\u001b[0;34m\u001b[0m\u001b[0m\n\u001b[0;32m--> 153\u001b[0;31m         \u001b[0;32mreturn\u001b[0m \u001b[0msuper\u001b[0m\u001b[0;34m(\u001b[0m\u001b[0;34m)\u001b[0m\u001b[0;34m.\u001b[0m\u001b[0m_fit\u001b[0m\u001b[0;34m(\u001b[0m\u001b[0mX\u001b[0m\u001b[0;34m=\u001b[0m\u001b[0mX\u001b[0m\u001b[0;34m,\u001b[0m \u001b[0my\u001b[0m\u001b[0;34m=\u001b[0m\u001b[0my\u001b[0m\u001b[0;34m,\u001b[0m \u001b[0mtime_limit\u001b[0m\u001b[0;34m=\u001b[0m\u001b[0mtime_limit\u001b[0m\u001b[0;34m,\u001b[0m \u001b[0;34m**\u001b[0m\u001b[0mkwargs\u001b[0m\u001b[0;34m)\u001b[0m\u001b[0;34m\u001b[0m\u001b[0;34m\u001b[0m\u001b[0m\n\u001b[0m\u001b[1;32m    154\u001b[0m \u001b[0;34m\u001b[0m\u001b[0m\n\u001b[1;32m    155\u001b[0m     \u001b[0;32mdef\u001b[0m \u001b[0mset_contexts\u001b[0m\u001b[0;34m(\u001b[0m\u001b[0mself\u001b[0m\u001b[0;34m,\u001b[0m \u001b[0mpath_context\u001b[0m\u001b[0;34m)\u001b[0m\u001b[0;34m:\u001b[0m\u001b[0;34m\u001b[0m\u001b[0;34m\u001b[0m\u001b[0m\n",
            "\u001b[0;32m/usr/local/lib/python3.7/dist-packages/autogluon/core/models/ensemble/bagged_ensemble_model.py\u001b[0m in \u001b[0;36m_fit\u001b[0;34m(self, X, y, X_val, y_val, k_fold, k_fold_start, k_fold_end, n_repeats, n_repeat_start, groups, **kwargs)\u001b[0m\n\u001b[1;32m    187\u001b[0m                     \u001b[0mkwargs\u001b[0m\u001b[0;34m[\u001b[0m\u001b[0;34m'time_limit'\u001b[0m\u001b[0;34m]\u001b[0m \u001b[0;34m=\u001b[0m \u001b[0mkwargs\u001b[0m\u001b[0;34m[\u001b[0m\u001b[0;34m'time_limit'\u001b[0m\u001b[0;34m]\u001b[0m \u001b[0;34m*\u001b[0m \u001b[0mfolds_to_fit\u001b[0m \u001b[0;34m/\u001b[0m \u001b[0;34m(\u001b[0m\u001b[0mfolds_to_fit\u001b[0m \u001b[0;34m+\u001b[0m \u001b[0;36m1.2\u001b[0m\u001b[0;34m)\u001b[0m\u001b[0;34m\u001b[0m\u001b[0;34m\u001b[0m\u001b[0m\n\u001b[1;32m    188\u001b[0m             self._fit_folds(X=X, y=y, model_base=model_base, k_fold=k_fold, k_fold_start=k_fold_start, k_fold_end=k_fold_end,\n\u001b[0;32m--> 189\u001b[0;31m                             n_repeats=n_repeats, n_repeat_start=n_repeat_start, save_folds=save_bag_folds, groups=groups, **kwargs)\n\u001b[0m\u001b[1;32m    190\u001b[0m             \u001b[0;31m# FIXME: Don't save folds except for refit\u001b[0m\u001b[0;34m\u001b[0m\u001b[0;34m\u001b[0m\u001b[0;34m\u001b[0m\u001b[0m\n\u001b[1;32m    191\u001b[0m             \u001b[0;31m# FIXME: Cleanup self\u001b[0m\u001b[0;34m\u001b[0m\u001b[0;34m\u001b[0m\u001b[0;34m\u001b[0m\u001b[0m\n",
            "\u001b[0;32m/usr/local/lib/python3.7/dist-packages/autogluon/core/models/ensemble/bagged_ensemble_model.py\u001b[0m in \u001b[0;36m_fit_folds\u001b[0;34m(self, X, y, model_base, k_fold, k_fold_start, k_fold_end, n_repeats, n_repeat_start, time_limit, sample_weight, save_folds, groups, **kwargs)\u001b[0m\n\u001b[1;32m    386\u001b[0m             \u001b[0;32mif\u001b[0m \u001b[0;34m(\u001b[0m\u001b[0mfold_end_n_repeat\u001b[0m \u001b[0;34m!=\u001b[0m \u001b[0mfold_end\u001b[0m\u001b[0;34m)\u001b[0m \u001b[0;32mor\u001b[0m \u001b[0;34m(\u001b[0m\u001b[0mk_fold\u001b[0m \u001b[0;34m==\u001b[0m \u001b[0mk_fold_end\u001b[0m\u001b[0;34m)\u001b[0m\u001b[0;34m:\u001b[0m\u001b[0;34m\u001b[0m\u001b[0;34m\u001b[0m\u001b[0m\n\u001b[1;32m    387\u001b[0m                 \u001b[0mself\u001b[0m\u001b[0;34m.\u001b[0m\u001b[0m_k_per_n_repeat\u001b[0m\u001b[0;34m.\u001b[0m\u001b[0mappend\u001b[0m\u001b[0;34m(\u001b[0m\u001b[0mk_fold\u001b[0m\u001b[0;34m)\u001b[0m\u001b[0;34m\u001b[0m\u001b[0;34m\u001b[0m\u001b[0m\n\u001b[0;32m--> 388\u001b[0;31m         \u001b[0mfold_fitting_strategy\u001b[0m\u001b[0;34m.\u001b[0m\u001b[0mafter_all_folds_scheduled\u001b[0m\u001b[0;34m(\u001b[0m\u001b[0;34m)\u001b[0m\u001b[0;34m\u001b[0m\u001b[0;34m\u001b[0m\u001b[0m\n\u001b[0m\u001b[1;32m    389\u001b[0m         \u001b[0mself\u001b[0m\u001b[0;34m.\u001b[0m\u001b[0mmodels\u001b[0m \u001b[0;34m+=\u001b[0m \u001b[0mmodels\u001b[0m\u001b[0;34m\u001b[0m\u001b[0;34m\u001b[0m\u001b[0m\n\u001b[1;32m    390\u001b[0m \u001b[0;34m\u001b[0m\u001b[0m\n",
            "\u001b[0;32m/usr/local/lib/python3.7/dist-packages/autogluon/core/models/ensemble/fold_fitting_strategy.py\u001b[0m in \u001b[0;36mafter_all_folds_scheduled\u001b[0;34m(self)\u001b[0m\n\u001b[1;32m     57\u001b[0m     \u001b[0;32mdef\u001b[0m \u001b[0mafter_all_folds_scheduled\u001b[0m\u001b[0;34m(\u001b[0m\u001b[0mself\u001b[0m\u001b[0;34m)\u001b[0m\u001b[0;34m:\u001b[0m\u001b[0;34m\u001b[0m\u001b[0;34m\u001b[0m\u001b[0m\n\u001b[1;32m     58\u001b[0m         \u001b[0;32mfor\u001b[0m \u001b[0mjob\u001b[0m \u001b[0;32min\u001b[0m \u001b[0mself\u001b[0m\u001b[0;34m.\u001b[0m\u001b[0mjobs\u001b[0m\u001b[0;34m:\u001b[0m\u001b[0;34m\u001b[0m\u001b[0;34m\u001b[0m\u001b[0m\n\u001b[0;32m---> 59\u001b[0;31m             \u001b[0mself\u001b[0m\u001b[0;34m.\u001b[0m\u001b[0m_fit_fold_model\u001b[0m\u001b[0;34m(\u001b[0m\u001b[0;34m*\u001b[0m\u001b[0mjob\u001b[0m\u001b[0;34m)\u001b[0m\u001b[0;34m\u001b[0m\u001b[0;34m\u001b[0m\u001b[0m\n\u001b[0m\u001b[1;32m     60\u001b[0m \u001b[0;34m\u001b[0m\u001b[0m\n\u001b[1;32m     61\u001b[0m     \u001b[0;32mdef\u001b[0m \u001b[0m_fit_fold_model\u001b[0m\u001b[0;34m(\u001b[0m\u001b[0mself\u001b[0m\u001b[0;34m,\u001b[0m \u001b[0mmodel_base\u001b[0m\u001b[0;34m,\u001b[0m \u001b[0mfold_ctx\u001b[0m\u001b[0;34m,\u001b[0m \u001b[0mkwargs\u001b[0m\u001b[0;34m)\u001b[0m\u001b[0;34m:\u001b[0m\u001b[0;34m\u001b[0m\u001b[0;34m\u001b[0m\u001b[0m\n",
            "\u001b[0;32m/usr/local/lib/python3.7/dist-packages/autogluon/core/models/ensemble/fold_fitting_strategy.py\u001b[0m in \u001b[0;36m_fit_fold_model\u001b[0;34m(self, model_base, fold_ctx, kwargs)\u001b[0m\n\u001b[1;32m     62\u001b[0m         \u001b[0mtime_start_fold\u001b[0m \u001b[0;34m=\u001b[0m \u001b[0mtime\u001b[0m\u001b[0;34m.\u001b[0m\u001b[0mtime\u001b[0m\u001b[0;34m(\u001b[0m\u001b[0;34m)\u001b[0m\u001b[0;34m\u001b[0m\u001b[0;34m\u001b[0m\u001b[0m\n\u001b[1;32m     63\u001b[0m         \u001b[0mtime_limit_fold\u001b[0m \u001b[0;34m=\u001b[0m \u001b[0mself\u001b[0m\u001b[0;34m.\u001b[0m\u001b[0m_get_fold_time_limit\u001b[0m\u001b[0;34m(\u001b[0m\u001b[0mfold_ctx\u001b[0m\u001b[0;34m)\u001b[0m\u001b[0;34m\u001b[0m\u001b[0;34m\u001b[0m\u001b[0m\n\u001b[0;32m---> 64\u001b[0;31m         \u001b[0mfold_model\u001b[0m \u001b[0;34m=\u001b[0m \u001b[0mself\u001b[0m\u001b[0;34m.\u001b[0m\u001b[0m_fit\u001b[0m\u001b[0;34m(\u001b[0m\u001b[0mmodel_base\u001b[0m\u001b[0;34m,\u001b[0m \u001b[0mtime_start_fold\u001b[0m\u001b[0;34m,\u001b[0m \u001b[0mtime_limit_fold\u001b[0m\u001b[0;34m,\u001b[0m \u001b[0mfold_ctx\u001b[0m\u001b[0;34m,\u001b[0m \u001b[0mkwargs\u001b[0m\u001b[0;34m)\u001b[0m\u001b[0;34m\u001b[0m\u001b[0;34m\u001b[0m\u001b[0m\n\u001b[0m\u001b[1;32m     65\u001b[0m         \u001b[0mfold_model\u001b[0m\u001b[0;34m,\u001b[0m \u001b[0mpred_proba\u001b[0m \u001b[0;34m=\u001b[0m \u001b[0mself\u001b[0m\u001b[0;34m.\u001b[0m\u001b[0m_predict_oof\u001b[0m\u001b[0;34m(\u001b[0m\u001b[0mfold_model\u001b[0m\u001b[0;34m,\u001b[0m \u001b[0mfold_ctx\u001b[0m\u001b[0;34m)\u001b[0m\u001b[0;34m\u001b[0m\u001b[0;34m\u001b[0m\u001b[0m\n\u001b[1;32m     66\u001b[0m         \u001b[0mself\u001b[0m\u001b[0;34m.\u001b[0m\u001b[0m_update_bagged_ensemble\u001b[0m\u001b[0;34m(\u001b[0m\u001b[0mfold_model\u001b[0m\u001b[0;34m,\u001b[0m \u001b[0mpred_proba\u001b[0m\u001b[0;34m,\u001b[0m \u001b[0mfold_ctx\u001b[0m\u001b[0;34m)\u001b[0m\u001b[0;34m\u001b[0m\u001b[0;34m\u001b[0m\u001b[0m\n",
            "\u001b[0;32m/usr/local/lib/python3.7/dist-packages/autogluon/core/models/ensemble/fold_fitting_strategy.py\u001b[0m in \u001b[0;36m_fit\u001b[0;34m(self, model_base, time_start_fold, time_limit_fold, fold_ctx, kwargs)\u001b[0m\n\u001b[1;32m    109\u001b[0m             \u001b[0mkwargs_fold\u001b[0m\u001b[0;34m[\u001b[0m\u001b[0;34m'sample_weight'\u001b[0m\u001b[0;34m]\u001b[0m \u001b[0;34m=\u001b[0m \u001b[0mself\u001b[0m\u001b[0;34m.\u001b[0m\u001b[0msample_weight\u001b[0m\u001b[0;34m[\u001b[0m\u001b[0mtrain_index\u001b[0m\u001b[0;34m]\u001b[0m\u001b[0;34m\u001b[0m\u001b[0;34m\u001b[0m\u001b[0m\n\u001b[1;32m    110\u001b[0m             \u001b[0mkwargs_fold\u001b[0m\u001b[0;34m[\u001b[0m\u001b[0;34m'sample_weight_val'\u001b[0m\u001b[0;34m]\u001b[0m \u001b[0;34m=\u001b[0m \u001b[0mself\u001b[0m\u001b[0;34m.\u001b[0m\u001b[0msample_weight\u001b[0m\u001b[0;34m[\u001b[0m\u001b[0mval_index\u001b[0m\u001b[0;34m]\u001b[0m\u001b[0;34m\u001b[0m\u001b[0;34m\u001b[0m\u001b[0m\n\u001b[0;32m--> 111\u001b[0;31m         \u001b[0mfold_model\u001b[0m\u001b[0;34m.\u001b[0m\u001b[0mfit\u001b[0m\u001b[0;34m(\u001b[0m\u001b[0mX\u001b[0m\u001b[0;34m=\u001b[0m\u001b[0mX_fold\u001b[0m\u001b[0;34m,\u001b[0m \u001b[0my\u001b[0m\u001b[0;34m=\u001b[0m\u001b[0my_fold\u001b[0m\u001b[0;34m,\u001b[0m \u001b[0mX_val\u001b[0m\u001b[0;34m=\u001b[0m\u001b[0mX_val_fold\u001b[0m\u001b[0;34m,\u001b[0m \u001b[0my_val\u001b[0m\u001b[0;34m=\u001b[0m\u001b[0my_val_fold\u001b[0m\u001b[0;34m,\u001b[0m \u001b[0mtime_limit\u001b[0m\u001b[0;34m=\u001b[0m\u001b[0mtime_limit_fold\u001b[0m\u001b[0;34m,\u001b[0m \u001b[0;34m**\u001b[0m\u001b[0mkwargs_fold\u001b[0m\u001b[0;34m)\u001b[0m\u001b[0;34m\u001b[0m\u001b[0;34m\u001b[0m\u001b[0m\n\u001b[0m\u001b[1;32m    112\u001b[0m         \u001b[0mfold_model\u001b[0m\u001b[0;34m.\u001b[0m\u001b[0mfit_time\u001b[0m \u001b[0;34m=\u001b[0m \u001b[0mtime\u001b[0m\u001b[0;34m.\u001b[0m\u001b[0mtime\u001b[0m\u001b[0;34m(\u001b[0m\u001b[0;34m)\u001b[0m \u001b[0;34m-\u001b[0m \u001b[0mtime_start_fold\u001b[0m\u001b[0;34m\u001b[0m\u001b[0;34m\u001b[0m\u001b[0m\n\u001b[1;32m    113\u001b[0m         \u001b[0;32mreturn\u001b[0m \u001b[0mfold_model\u001b[0m\u001b[0;34m\u001b[0m\u001b[0;34m\u001b[0m\u001b[0m\n",
            "\u001b[0;32m/usr/local/lib/python3.7/dist-packages/autogluon/core/models/abstract/abstract_model.py\u001b[0m in \u001b[0;36mfit\u001b[0;34m(self, **kwargs)\u001b[0m\n\u001b[1;32m    520\u001b[0m         \u001b[0;32mif\u001b[0m \u001b[0;34m'time_limit'\u001b[0m \u001b[0;32mnot\u001b[0m \u001b[0;32min\u001b[0m \u001b[0mkwargs\u001b[0m \u001b[0;32mor\u001b[0m \u001b[0mkwargs\u001b[0m\u001b[0;34m[\u001b[0m\u001b[0;34m'time_limit'\u001b[0m\u001b[0;34m]\u001b[0m \u001b[0;32mis\u001b[0m \u001b[0;32mNone\u001b[0m \u001b[0;32mor\u001b[0m \u001b[0mkwargs\u001b[0m\u001b[0;34m[\u001b[0m\u001b[0;34m'time_limit'\u001b[0m\u001b[0;34m]\u001b[0m \u001b[0;34m>\u001b[0m \u001b[0;36m0\u001b[0m\u001b[0;34m:\u001b[0m\u001b[0;34m\u001b[0m\u001b[0;34m\u001b[0m\u001b[0m\n\u001b[1;32m    521\u001b[0m             \u001b[0mself\u001b[0m\u001b[0;34m.\u001b[0m\u001b[0m_register_fit_metadata\u001b[0m\u001b[0;34m(\u001b[0m\u001b[0;34m**\u001b[0m\u001b[0mkwargs\u001b[0m\u001b[0;34m)\u001b[0m\u001b[0;34m\u001b[0m\u001b[0;34m\u001b[0m\u001b[0m\n\u001b[0;32m--> 522\u001b[0;31m             \u001b[0mout\u001b[0m \u001b[0;34m=\u001b[0m \u001b[0mself\u001b[0m\u001b[0;34m.\u001b[0m\u001b[0m_fit\u001b[0m\u001b[0;34m(\u001b[0m\u001b[0;34m**\u001b[0m\u001b[0mkwargs\u001b[0m\u001b[0;34m)\u001b[0m\u001b[0;34m\u001b[0m\u001b[0;34m\u001b[0m\u001b[0m\n\u001b[0m\u001b[1;32m    523\u001b[0m             \u001b[0;32mif\u001b[0m \u001b[0mout\u001b[0m \u001b[0;32mis\u001b[0m \u001b[0;32mNone\u001b[0m\u001b[0;34m:\u001b[0m\u001b[0;34m\u001b[0m\u001b[0;34m\u001b[0m\u001b[0m\n\u001b[1;32m    524\u001b[0m                 \u001b[0;32mreturn\u001b[0m \u001b[0mself\u001b[0m\u001b[0;34m\u001b[0m\u001b[0;34m\u001b[0m\u001b[0m\n",
            "\u001b[0;32m/usr/local/lib/python3.7/dist-packages/autogluon/tabular/models/lgb/lgb_model.py\u001b[0m in \u001b[0;36m_fit\u001b[0;34m(self, X, y, X_val, y_val, dataset_train, dataset_val, time_limit, num_gpus, sample_weight, sample_weight_val, verbosity, **kwargs)\u001b[0m\n\u001b[1;32m    180\u001b[0m             \u001b[0mwarnings\u001b[0m\u001b[0;34m.\u001b[0m\u001b[0mfilterwarnings\u001b[0m\u001b[0;34m(\u001b[0m\u001b[0;34m'ignore'\u001b[0m\u001b[0;34m,\u001b[0m \u001b[0mmessage\u001b[0m\u001b[0;34m=\u001b[0m\u001b[0;34m'categorical_column in param dict is overridden.'\u001b[0m\u001b[0;34m)\u001b[0m\u001b[0;34m\u001b[0m\u001b[0;34m\u001b[0m\u001b[0m\n\u001b[1;32m    181\u001b[0m             \u001b[0;32mtry\u001b[0m\u001b[0;34m:\u001b[0m\u001b[0;34m\u001b[0m\u001b[0;34m\u001b[0m\u001b[0m\n\u001b[0;32m--> 182\u001b[0;31m                 \u001b[0mself\u001b[0m\u001b[0;34m.\u001b[0m\u001b[0mmodel\u001b[0m \u001b[0;34m=\u001b[0m \u001b[0mlgb\u001b[0m\u001b[0;34m.\u001b[0m\u001b[0mtrain\u001b[0m\u001b[0;34m(\u001b[0m\u001b[0;34m**\u001b[0m\u001b[0mtrain_params\u001b[0m\u001b[0;34m)\u001b[0m\u001b[0;34m\u001b[0m\u001b[0;34m\u001b[0m\u001b[0m\n\u001b[0m\u001b[1;32m    183\u001b[0m             \u001b[0;32mexcept\u001b[0m \u001b[0mLightGBMError\u001b[0m\u001b[0;34m:\u001b[0m\u001b[0;34m\u001b[0m\u001b[0;34m\u001b[0m\u001b[0m\n\u001b[1;32m    184\u001b[0m                 \u001b[0;32mif\u001b[0m \u001b[0mtrain_params\u001b[0m\u001b[0;34m[\u001b[0m\u001b[0;34m'params'\u001b[0m\u001b[0;34m]\u001b[0m\u001b[0;34m.\u001b[0m\u001b[0mget\u001b[0m\u001b[0;34m(\u001b[0m\u001b[0;34m'device'\u001b[0m\u001b[0;34m,\u001b[0m \u001b[0;34m'cpu'\u001b[0m\u001b[0;34m)\u001b[0m \u001b[0;34m!=\u001b[0m \u001b[0;34m'gpu'\u001b[0m\u001b[0;34m:\u001b[0m\u001b[0;34m\u001b[0m\u001b[0;34m\u001b[0m\u001b[0m\n",
            "\u001b[0;32m/usr/local/lib/python3.7/dist-packages/lightgbm/engine.py\u001b[0m in \u001b[0;36mtrain\u001b[0;34m(params, train_set, num_boost_round, valid_sets, valid_names, fobj, feval, init_model, feature_name, categorical_feature, early_stopping_rounds, evals_result, verbose_eval, learning_rates, keep_training_booster, callbacks)\u001b[0m\n\u001b[1;32m    223\u001b[0m             \u001b[0;32mif\u001b[0m \u001b[0mis_valid_contain_train\u001b[0m\u001b[0;34m:\u001b[0m\u001b[0;34m\u001b[0m\u001b[0;34m\u001b[0m\u001b[0m\n\u001b[1;32m    224\u001b[0m                 \u001b[0mevaluation_result_list\u001b[0m\u001b[0;34m.\u001b[0m\u001b[0mextend\u001b[0m\u001b[0;34m(\u001b[0m\u001b[0mbooster\u001b[0m\u001b[0;34m.\u001b[0m\u001b[0meval_train\u001b[0m\u001b[0;34m(\u001b[0m\u001b[0mfeval\u001b[0m\u001b[0;34m)\u001b[0m\u001b[0;34m)\u001b[0m\u001b[0;34m\u001b[0m\u001b[0;34m\u001b[0m\u001b[0m\n\u001b[0;32m--> 225\u001b[0;31m             \u001b[0mevaluation_result_list\u001b[0m\u001b[0;34m.\u001b[0m\u001b[0mextend\u001b[0m\u001b[0;34m(\u001b[0m\u001b[0mbooster\u001b[0m\u001b[0;34m.\u001b[0m\u001b[0meval_valid\u001b[0m\u001b[0;34m(\u001b[0m\u001b[0mfeval\u001b[0m\u001b[0;34m)\u001b[0m\u001b[0;34m)\u001b[0m\u001b[0;34m\u001b[0m\u001b[0;34m\u001b[0m\u001b[0m\n\u001b[0m\u001b[1;32m    226\u001b[0m         \u001b[0;32mtry\u001b[0m\u001b[0;34m:\u001b[0m\u001b[0;34m\u001b[0m\u001b[0;34m\u001b[0m\u001b[0m\n\u001b[1;32m    227\u001b[0m             \u001b[0;32mfor\u001b[0m \u001b[0mcb\u001b[0m \u001b[0;32min\u001b[0m \u001b[0mcallbacks_after_iter\u001b[0m\u001b[0;34m:\u001b[0m\u001b[0;34m\u001b[0m\u001b[0;34m\u001b[0m\u001b[0m\n",
            "\u001b[0;32m/usr/local/lib/python3.7/dist-packages/lightgbm/basic.py\u001b[0m in \u001b[0;36meval_valid\u001b[0;34m(self, feval)\u001b[0m\n\u001b[1;32m   1975\u001b[0m             \u001b[0mList\u001b[0m \u001b[0;32mwith\u001b[0m \u001b[0mevaluation\u001b[0m \u001b[0mresults\u001b[0m\u001b[0;34m.\u001b[0m\u001b[0;34m\u001b[0m\u001b[0;34m\u001b[0m\u001b[0m\n\u001b[1;32m   1976\u001b[0m         \"\"\"\n\u001b[0;32m-> 1977\u001b[0;31m         return [item for i in range_(1, self.__num_dataset)\n\u001b[0m\u001b[1;32m   1978\u001b[0m                 for item in self.__inner_eval(self.name_valid_sets[i - 1], i, feval)]\n\u001b[1;32m   1979\u001b[0m \u001b[0;34m\u001b[0m\u001b[0m\n",
            "\u001b[0;32m/usr/local/lib/python3.7/dist-packages/lightgbm/basic.py\u001b[0m in \u001b[0;36m<listcomp>\u001b[0;34m(.0)\u001b[0m\n\u001b[1;32m   1976\u001b[0m         \"\"\"\n\u001b[1;32m   1977\u001b[0m         return [item for i in range_(1, self.__num_dataset)\n\u001b[0;32m-> 1978\u001b[0;31m                 for item in self.__inner_eval(self.name_valid_sets[i - 1], i, feval)]\n\u001b[0m\u001b[1;32m   1979\u001b[0m \u001b[0;34m\u001b[0m\u001b[0m\n\u001b[1;32m   1980\u001b[0m     \u001b[0;32mdef\u001b[0m \u001b[0msave_model\u001b[0m\u001b[0;34m(\u001b[0m\u001b[0mself\u001b[0m\u001b[0;34m,\u001b[0m \u001b[0mfilename\u001b[0m\u001b[0;34m,\u001b[0m \u001b[0mnum_iteration\u001b[0m\u001b[0;34m=\u001b[0m\u001b[0;32mNone\u001b[0m\u001b[0;34m,\u001b[0m \u001b[0mstart_iteration\u001b[0m\u001b[0;34m=\u001b[0m\u001b[0;36m0\u001b[0m\u001b[0;34m)\u001b[0m\u001b[0;34m:\u001b[0m\u001b[0;34m\u001b[0m\u001b[0;34m\u001b[0m\u001b[0m\n",
            "\u001b[0;32m/usr/local/lib/python3.7/dist-packages/lightgbm/basic.py\u001b[0m in \u001b[0;36m__inner_eval\u001b[0;34m(self, data_name, data_idx, feval)\u001b[0m\n\u001b[1;32m   2362\u001b[0m                 \u001b[0mctypes\u001b[0m\u001b[0;34m.\u001b[0m\u001b[0mc_int\u001b[0m\u001b[0;34m(\u001b[0m\u001b[0mdata_idx\u001b[0m\u001b[0;34m)\u001b[0m\u001b[0;34m,\u001b[0m\u001b[0;34m\u001b[0m\u001b[0;34m\u001b[0m\u001b[0m\n\u001b[1;32m   2363\u001b[0m                 \u001b[0mctypes\u001b[0m\u001b[0;34m.\u001b[0m\u001b[0mbyref\u001b[0m\u001b[0;34m(\u001b[0m\u001b[0mtmp_out_len\u001b[0m\u001b[0;34m)\u001b[0m\u001b[0;34m,\u001b[0m\u001b[0;34m\u001b[0m\u001b[0;34m\u001b[0m\u001b[0m\n\u001b[0;32m-> 2364\u001b[0;31m                 result.ctypes.data_as(ctypes.POINTER(ctypes.c_double))))\n\u001b[0m\u001b[1;32m   2365\u001b[0m             \u001b[0;32mif\u001b[0m \u001b[0mtmp_out_len\u001b[0m\u001b[0;34m.\u001b[0m\u001b[0mvalue\u001b[0m \u001b[0;34m!=\u001b[0m \u001b[0mself\u001b[0m\u001b[0;34m.\u001b[0m\u001b[0m__num_inner_eval\u001b[0m\u001b[0;34m:\u001b[0m\u001b[0;34m\u001b[0m\u001b[0;34m\u001b[0m\u001b[0m\n\u001b[1;32m   2366\u001b[0m                 \u001b[0;32mraise\u001b[0m \u001b[0mValueError\u001b[0m\u001b[0;34m(\u001b[0m\u001b[0;34m\"Wrong length of eval results\"\u001b[0m\u001b[0;34m)\u001b[0m\u001b[0;34m\u001b[0m\u001b[0;34m\u001b[0m\u001b[0m\n",
            "\u001b[0;31mKeyboardInterrupt\u001b[0m: "
          ]
        }
      ],
      "metadata": {
        "colab": {
          "base_uri": "https://localhost:8080/",
          "height": 1000
        },
        "id": "2ToY4zZH330O",
        "outputId": "441ef829-503d-4ba7-b97e-d09118a0f74a"
      }
    },
    {
      "cell_type": "code",
      "execution_count": null,
      "source": [
        "# Évalutation des performances du modèle avant optimisation seuil de décision\n",
        "start = time.time()\n",
        "performance = predictor.evaluate(test_df)\n",
        "stop = time.time()\n",
        "\n",
        "print(f\"\\nTemps de prédictions = {stop - start}\")"
      ],
      "outputs": [
        {
          "output_type": "stream",
          "name": "stderr",
          "text": [
            "Evaluation: f1 on test data: 0.7522388059701492\n",
            "Evaluations on test data:\n",
            "{\n",
            "    \"f1\": 0.7522388059701492,\n",
            "    \"accuracy\": 0.6745098039215687,\n",
            "    \"balanced_accuracy\": 0.635809748427673,\n",
            "    \"mcc\": 0.2845936721958216,\n",
            "    \"roc_auc\": 0.6864517819706499,\n",
            "    \"precision\": 0.7159090909090909,\n",
            "    \"recall\": 0.7924528301886793\n",
            "}\n"
          ]
        },
        {
          "output_type": "stream",
          "name": "stdout",
          "text": [
            "\n",
            "Temps de prédictions = 16.251795530319214\n"
          ]
        }
      ],
      "metadata": {
        "colab": {
          "base_uri": "https://localhost:8080/"
        },
        "id": "3_xvn496FIjY",
        "outputId": "a1e70fce-7d1a-4bea-91d1-87bccd02c624"
      }
    },
    {
      "cell_type": "code",
      "execution_count": null,
      "source": [
        "# Optimisation du seuil de décision\n",
        "\n",
        "# y_true et prédictions\n",
        "y_true = train_df.TARGET_5Yrs\n",
        "y_pred = predictor.predict_proba(train_df.drop(columns=[\"TARGET_5Yrs\"]))[1]\n",
        "\n",
        "threshold = max_scores(\n",
        "    y_true,\n",
        "    y_pred,\n",
        "    min_range=10,\n",
        "    max_range=90\n",
        ")"
      ],
      "outputs": [],
      "metadata": {
        "id": "pynBGKYRisJu"
      }
    },
    {
      "cell_type": "code",
      "execution_count": null,
      "source": [
        "# prédictions jeu de test\n",
        "y_true = test_df.TARGET_5Yrs\n",
        "y_pred = predictor.predict_proba(test_df.drop(columns=[\"TARGET_5Yrs\"]))[1]\n",
        "\n",
        "threshold = 0.27\n",
        "y_pred_threshold = [1 if x >= threshold else 0 for x in y_pred]\n",
        "\n",
        "print(f\"Recall    = {recall_score(y_true, y_pred_threshold):.4f}\")\n",
        "print(f\"F1 score  = {f1_score(y_true, y_pred_threshold):.4f}\")\n",
        "print(f\"Precision = {precision_score(y_true, y_pred_threshold):.4f}\")"
      ],
      "outputs": [
        {
          "output_type": "stream",
          "name": "stdout",
          "text": [
            "Recall    = 0.9874\n",
            "F1 score  = 0.7696\n",
            "Precision = 0.6305\n"
          ]
        }
      ],
      "metadata": {
        "colab": {
          "base_uri": "https://localhost:8080/"
        },
        "id": "hFbV4pY7iten",
        "outputId": "2f6c3275-4388-489d-e882-9c62af11bd4d"
      }
    },
    {
      "cell_type": "markdown",
      "source": [
        "Comparaison des différents modèles"
      ],
      "metadata": {
        "id": "H3ZgkiqoqNlc"
      }
    },
    {
      "cell_type": "code",
      "execution_count": 17,
      "source": [
        "list_model_name = [\"Baseline\", \"Log_reg\", \"SVM\", \"AutoML\"]\n",
        "list_test_f1 = [0.5761, 0.6597, 0.6406, 0.7696]\n",
        "list_test_precision = [0.5933, 0.7364, 0.7377, 0.6305]\n",
        "liste_temps_pred = [0.0022, 0.0023, 0.0145, 16.25]\n",
        "\n",
        "# Visualization\n",
        "plt.style.use(['default'])\n",
        "f, axes = plt.subplots(1, 3, figsize=(20, 6))\n",
        "\n",
        "# Test - F1 score\n",
        "axes[0].barh(\n",
        "    list_model_name,\n",
        "    list_test_f1,\n",
        "    color=plt.cm.Paired(np.arange(len(list_test_f1)))\n",
        ")\n",
        "axes[0].set_title('Test - F1 score')\n",
        "axes[0].set_yticklabels([])\n",
        "axes[0].invert_yaxis()\n",
        "\n",
        "# Test - Precision\n",
        "axes[1].barh(\n",
        "    list_model_name,\n",
        "    list_test_precision,\n",
        "    color=plt.cm.Paired(np.arange(len(list_test_precision)))\n",
        ")\n",
        "axes[1].set_title('Test - Precision')\n",
        "axes[1].set_yticklabels([])\n",
        "axes[1].invert_yaxis()\n",
        "\n",
        "# Temps pred jeu de test\n",
        "axes[2].barh(\n",
        "    list_model_name,\n",
        "    liste_temps_pred,\n",
        "    color=plt.cm.Paired(np.arange(len(liste_temps_pred)))\n",
        ")\n",
        "axes[2].set_title('Temps pred jeu de test')\n",
        "axes[2].set_yticklabels([])\n",
        "axes[2].invert_yaxis()"
      ],
      "outputs": [
        {
          "output_type": "display_data",
          "data": {
            "image/png": "[encoded data removed]",
            "text/plain": [
              "<Figure size 2000x600 with 3 Axes>"
            ]
          },
          "metadata": {}
        }
      ],
      "metadata": {
        "colab": {
          "base_uri": "https://localhost:8080/",
          "height": 545
        },
        "id": "2izvM6q5qMcD",
        "outputId": "dfd893d0-8e6a-4a7d-b842-811bbdd9fae3"
      }
    },
    {
      "cell_type": "markdown",
      "source": [
        "La régression logistique est dépassée par AutoGluon pour la valeur du F1-score.\n",
        "\n",
        "Or, sa précision, ainsi que le temps de prédiction sont meilleurs la concernant.\n",
        "\n",
        "C'est le modèle que je choisis par la suite."
      ],
      "metadata": {
        "id": "KtJ96jBZJfOF"
      }
    },
    {
      "cell_type": "markdown",
      "source": [
        "# Meilleur modèle\n",
        "\n",
        "Notre meilleur modèle est la régression logistique.\n",
        "\n",
        "Nous allons à présent optimiser le seuil de décision afin de maximiser le F0.5-score.\n",
        "\n",
        "Puis, nous afficherons la matrice de confusion produite par ce modèle, en utilisant le seuil optimal.\n",
        "\n",
        "Enfin, nous enregistrerons notre modèle à l'aide de \"dill\"."
      ],
      "metadata": {
        "id": "iPctT8No8tbD"
      }
    },
    {
      "cell_type": "code",
      "execution_count": 25,
      "source": [
        "# Matrice de confusion\n",
        "# optimisation du seuil sur le jeu d'entrainement\n",
        "plt.style.use(['default'])\n",
        "\n",
        "y_true = train_df.TARGET_5Yrs\n",
        "y_pred = opt_logReg.predict_proba(train_df.drop(columns=[\"TARGET_5Yrs\"]))\n",
        "\n",
        "threshold = 0.51\n",
        "y_pred = [x[1] for x in y_pred]\n",
        "y_pred_threshold = [1 if x >= threshold else 0 for x in y_pred]\n",
        "\n",
        "ax = sns.heatmap(\n",
        "    confusion_matrix(y_true, y_pred_threshold),\n",
        "    annot=True,\n",
        "    fmt=\"d\"\n",
        ")\n",
        "\n",
        "ax.set_xlabel(\"Predicted labels\");\n",
        "ax.set_ylabel(\"True labels\");\n",
        "ax.set_title(\"Matrice de confusion - Contrat NBA\");\n",
        "ax.xaxis.set_ticklabels([\"carreer length < 5\", \"carreer length >= 5\"]);\n",
        "ax.yaxis.set_ticklabels([\"carreer length < 5\", \"carreer length >= 5\"]);\n",
        "\n",
        "print(f\"Recall    = {recall_score(y_true, y_pred_threshold):.4f}\")\n",
        "print(f\"F{0.5}-score = {fbeta_score(y_true, y_pred_threshold, beta=0.5):.4f}\")\n",
        "print(f\"Precision = {precision_score(y_true, y_pred_threshold):.4f}\\n\")"
      ],
      "outputs": [
        {
          "output_type": "stream",
          "name": "stdout",
          "text": [
            "Recall    = 0.6919\n",
            "F0.5-score = 0.7920\n",
            "Precision = 0.8218\n",
            "\n"
          ]
        },
        {
          "output_type": "display_data",
          "data": {
            "image/png": "[encoded data removed]",
            "text/plain": [
              "<Figure size 640x480 with 2 Axes>"
            ]
          },
          "metadata": {}
        }
      ],
      "metadata": {
        "colab": {
          "base_uri": "https://localhost:8080/",
          "height": 540
        },
        "id": "Ykf0EXe59Jdi",
        "outputId": "a7e556b1-db85-4ae6-aa25-a79e206815d2"
      }
    },
    {
      "cell_type": "code",
      "execution_count": 26,
      "source": [
        "# Matrice de confusion\n",
        "# Resulats sur le jeu de test\n",
        "\n",
        "plt.style.use(['default'])\n",
        "\n",
        "y_true = test_df.TARGET_5Yrs\n",
        "y_pred = opt_logReg.predict_proba(test_df.drop(columns=[\"TARGET_5Yrs\"]))\n",
        "\n",
        "threshold = 0.51\n",
        "y_pred = [x[1] for x in y_pred]\n",
        "y_pred_threshold = [1 if x >= threshold else 0 for x in y_pred]\n",
        "\n",
        "ax = sns.heatmap(\n",
        "    confusion_matrix(y_true, y_pred_threshold),\n",
        "    annot=True,\n",
        "    fmt=\"d\"\n",
        ")\n",
        "\n",
        "ax.set_xlabel(\"Predicted labels\");\n",
        "ax.set_ylabel(\"True labels\");\n",
        "ax.set_title(\"Matrice de confusion - Contrat NBA\");\n",
        "ax.xaxis.set_ticklabels([\"carreer length < 5\", \"carreer length >= 5\"]);\n",
        "ax.yaxis.set_ticklabels([\"carreer length < 5\", \"carreer length >= 5\"]);\n",
        "\n",
        "print(f\"Recall    = {recall_score(y_true, y_pred_threshold):.4f}\")\n",
        "print(f\"F{0.5}-score = {fbeta_score(y_true, y_pred_threshold, beta=0.5):.4f}\")\n",
        "print(f\"Precision = {precision_score(y_true, y_pred_threshold):.4f}\\n\")"
      ],
      "outputs": [
        {
          "output_type": "stream",
          "name": "stdout",
          "text": [
            "Recall    = 0.5975\n",
            "F0.5-score = 0.7037\n",
            "Precision = 0.7364\n",
            "\n"
          ]
        },
        {
          "output_type": "display_data",
          "data": {
            "image/png": "[encoded data removed]",
            "text/plain": [
              "<Figure size 640x480 with 2 Axes>"
            ]
          },
          "metadata": {}
        }
      ],
      "metadata": {
        "colab": {
          "base_uri": "https://localhost:8080/",
          "height": 540
        },
        "id": "5hZrfRikiRnv",
        "outputId": "af8a0608-7e2e-42a5-b1a5-1936f9178617"
      }
    },
    {
      "cell_type": "code",
      "execution_count": null,
      "source": [
        "# Enregistrement du modèle\n",
        "path = \"/content/drive/MyDrive/Gaetan_Travail/ML/\"\n",
        "\n",
        "with open(path + \"model_logReg.pk\", \"wb\") as file:\n",
        "\tpickle.dump(opt_logReg, file)"
      ],
      "outputs": [],
      "metadata": {
        "id": "p7tdn-APaKHP"
      }
    }
  ]
}